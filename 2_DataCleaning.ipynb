{
  "nbformat": 4,
  "nbformat_minor": 0,
  "metadata": {
    "colab": {
      "name": "2_DataCleaning.ipynb",
      "provenance": [],
      "authorship_tag": "ABX9TyObo3lR47tZyxq3UsNON6k2",
      "include_colab_link": true
    },
    "kernelspec": {
      "name": "python3",
      "display_name": "Python 3"
    }
  },
  "cells": [
    {
      "cell_type": "markdown",
      "metadata": {
        "id": "view-in-github",
        "colab_type": "text"
      },
      "source": [
        "<a href=\"https://colab.research.google.com/github/Jarmos-san/PumpItUp/blob/master/2_DataCleaning.ipynb\" target=\"_parent\"><img src=\"https://colab.research.google.com/assets/colab-badge.svg\" alt=\"Open In Colab\"/></a>"
      ]
    },
    {
      "cell_type": "markdown",
      "metadata": {
        "id": "EzurjJxhYob9",
        "colab_type": "text"
      },
      "source": [
        "# Setting up Notebook"
      ]
    },
    {
      "cell_type": "code",
      "metadata": {
        "id": "4GO_F87EXcx4",
        "colab_type": "code",
        "colab": {
          "base_uri": "https://localhost:8080/",
          "height": 129
        },
        "outputId": "3a0edbdf-df32-487f-d33b-df1cbb23e7f4"
      },
      "source": [
        "from google.colab import drive\n",
        "drive.mount('/content/gdrive')"
      ],
      "execution_count": 1,
      "outputs": [
        {
          "output_type": "stream",
          "text": [
            "Go to this URL in a browser: https://accounts.google.com/o/oauth2/auth?client_id=947318989803-6bn6qk8qdgf4n4g3pfee6491hc0brc4i.apps.googleusercontent.com&redirect_uri=urn%3aietf%3awg%3aoauth%3a2.0%3aoob&response_type=code&scope=email%20https%3a%2f%2fwww.googleapis.com%2fauth%2fdocs.test%20https%3a%2f%2fwww.googleapis.com%2fauth%2fdrive%20https%3a%2f%2fwww.googleapis.com%2fauth%2fdrive.photos.readonly%20https%3a%2f%2fwww.googleapis.com%2fauth%2fpeopleapi.readonly\n",
            "\n",
            "Enter your authorization code:\n",
            "··········\n",
            "Mounted at /content/gdrive\n"
          ],
          "name": "stdout"
        }
      ]
    },
    {
      "cell_type": "code",
      "metadata": {
        "id": "m25EG7QPYxpy",
        "colab_type": "code",
        "outputId": "057a3179-7f4f-4d87-e0a9-c5efe61cc26a",
        "colab": {
          "base_uri": "https://localhost:8080/",
          "height": 72
        }
      },
      "source": [
        "%cd /content/gdrive/My\\ Drive/Titanic/Data\n",
        "%ls\n",
        "%pwd"
      ],
      "execution_count": 2,
      "outputs": [
        {
          "output_type": "stream",
          "text": [
            "/content/gdrive/My Drive/Titanic/Data\n",
            "EncodedTrainData.csv  gender_submission.csv  test.csv  train.csv\n"
          ],
          "name": "stdout"
        },
        {
          "output_type": "execute_result",
          "data": {
            "text/plain": [
              "'/content/gdrive/My Drive/Titanic/Data'"
            ]
          },
          "metadata": {
            "tags": []
          },
          "execution_count": 2
        }
      ]
    },
    {
      "cell_type": "code",
      "metadata": {
        "id": "a1zxVMjAZz9W",
        "colab_type": "code",
        "colab": {}
      },
      "source": [
        "import pandas as pd\n",
        "import missingno"
      ],
      "execution_count": 0,
      "outputs": []
    },
    {
      "cell_type": "markdown",
      "metadata": {
        "id": "d94RmlqMj1Su",
        "colab_type": "text"
      },
      "source": [
        "# Loading Datasets to Pandas DataFrame Object"
      ]
    },
    {
      "cell_type": "code",
      "metadata": {
        "id": "AIZ_V-GAZdj4",
        "colab_type": "code",
        "colab": {}
      },
      "source": [
        "# Path to the competition data files\n",
        "PATH = '/content/gdrive/My Drive/Titanic/Data/'\n",
        "\n",
        "# Loads the train and test datasets to a DataFrame\n",
        "TrainDF = pd.read_csv(f'{PATH}train.csv', index_col='PassengerId')\n",
        "TestDF = pd.read_csv(f'{PATH}test.csv', index_col='PassengerId')\n",
        "\n",
        "# Makes a copy of the DataFrame for processing\n",
        "TrainData= TrainDF.copy()\n",
        "TestData= TestDF.copy()"
      ],
      "execution_count": 0,
      "outputs": []
    },
    {
      "cell_type": "markdown",
      "metadata": {
        "id": "zcZDtB40j8cv",
        "colab_type": "text"
      },
      "source": [
        "# Handling Missing Values"
      ]
    },
    {
      "cell_type": "markdown",
      "metadata": {
        "id": "wpI7ubyMj__l",
        "colab_type": "text"
      },
      "source": [
        "Embarked"
      ]
    },
    {
      "cell_type": "code",
      "metadata": {
        "id": "oN66RqlTaLkw",
        "colab_type": "code",
        "colab": {}
      },
      "source": [
        "# Replacing NA values in the Embarked column with the mode\n",
        "TrainData['Embarked'].fillna('S', inplace=True)"
      ],
      "execution_count": 0,
      "outputs": []
    },
    {
      "cell_type": "markdown",
      "metadata": {
        "id": "hym4Cy3ykCGr",
        "colab_type": "text"
      },
      "source": [
        "Age"
      ]
    },
    {
      "cell_type": "code",
      "metadata": {
        "id": "TDGqq_HugEP0",
        "colab_type": "code",
        "colab": {}
      },
      "source": [
        "# Age in both the datasets has missing values, hence they've been replaced with\n",
        "# 0 temporarily. This can be imputated later on using feature engineering.\n",
        "TrainData['Age'].fillna(0, inplace=True)\n",
        "TestData['Age'].fillna(0, inplace=True)"
      ],
      "execution_count": 0,
      "outputs": []
    },
    {
      "cell_type": "markdown",
      "metadata": {
        "id": "Yy04KcbckD7l",
        "colab_type": "text"
      },
      "source": [
        "Cabin"
      ]
    },
    {
      "cell_type": "code",
      "metadata": {
        "id": "J31-Q7BejhMl",
        "colab_type": "code",
        "colab": {}
      },
      "source": [
        "# Only a few NA values exists in the Cabin column hence they've been replaced with\n",
        "# the mode in the column series\n",
        "TrainData['Cabin'].fillna('G6', inplace=True)\n",
        "TestData['Cabin'].fillna('G6', inplace=True)"
      ],
      "execution_count": 0,
      "outputs": []
    },
    {
      "cell_type": "markdown",
      "metadata": {
        "id": "nNNHqrpZa7Zo",
        "colab_type": "text"
      },
      "source": [
        "Fare"
      ]
    },
    {
      "cell_type": "code",
      "metadata": {
        "id": "4JEUgx-fal1M",
        "colab_type": "code",
        "colab": {}
      },
      "source": [
        "# Only the Test set has missing value in the Fare column hence it has been \n",
        "# replaced with the mean.\n",
        "TestData['Fare'].fillna(36, inplace=True)"
      ],
      "execution_count": 0,
      "outputs": []
    },
    {
      "cell_type": "markdown",
      "metadata": {
        "id": "gEmGG7GNmF61",
        "colab_type": "text"
      },
      "source": [
        "# Dropping Uneccessary Columns"
      ]
    },
    {
      "cell_type": "code",
      "metadata": {
        "id": "nVL_m2itnx0N",
        "colab_type": "code",
        "colab": {}
      },
      "source": [
        "TrainData.drop(labels=['Name', 'Ticket', 'Cabin'], axis='columns', inplace=True)\n",
        "TestData.drop(labels=['Name', 'Ticket', 'Cabin'], axis='columns', inplace=True)"
      ],
      "execution_count": 0,
      "outputs": []
    },
    {
      "cell_type": "markdown",
      "metadata": {
        "id": "7B4WvU3okMOe",
        "colab_type": "text"
      },
      "source": [
        "# Encode the Variables"
      ]
    },
    {
      "cell_type": "code",
      "metadata": {
        "id": "wh74fcXXoyYJ",
        "colab_type": "code",
        "colab": {}
      },
      "source": [
        "TrainData = pd.get_dummies(TrainData, columns=['Sex', 'Embarked'], \n",
        "                           drop_first=True)\n",
        "TestData = pd.get_dummies(TestData, columns=['Sex', 'Embarked'], \n",
        "                           drop_first=True)"
      ],
      "execution_count": 0,
      "outputs": []
    },
    {
      "cell_type": "markdown",
      "metadata": {
        "id": "lEV2Pc2zlXAE",
        "colab_type": "text"
      },
      "source": [
        "Notes\n",
        "\n",
        "`Name`, `Ticket`, `Cabin`, have been dropped temporarily. While `Sex`, & `Embarked` are string type objects and are Nominal Categorical Variables."
      ]
    },
    {
      "cell_type": "markdown",
      "metadata": {
        "id": "SG7kiObNyX1m",
        "colab_type": "text"
      },
      "source": [
        "# Save Encoded DataFrame as `.csv`"
      ]
    },
    {
      "cell_type": "code",
      "metadata": {
        "id": "-IG_gKeFcvC1",
        "colab_type": "code",
        "colab": {
          "base_uri": "https://localhost:8080/",
          "height": 54
        },
        "outputId": "828b670b-cf32-49e5-a3cb-80622bb9a0c5"
      },
      "source": [
        "print(f'Training set has {TrainData.shape[0]} samples & {TrainData.shape[1]} features')\n",
        "print(f'Testing set has {TestData.shape[0]} samples & {TestData.shape[1]} features')"
      ],
      "execution_count": 35,
      "outputs": [
        {
          "output_type": "stream",
          "text": [
            "Training set has 891 samples & 9 features\n",
            "Testing set has 418 samples & 8 features\n"
          ],
          "name": "stdout"
        }
      ]
    },
    {
      "cell_type": "code",
      "metadata": {
        "id": "BQAp_uxpyO3S",
        "colab_type": "code",
        "outputId": "43f22e3d-b504-4283-827b-876935a326fb",
        "colab": {
          "base_uri": "https://localhost:8080/",
          "height": 175
        }
      },
      "source": [
        "# First 3 rows of the Training set\n",
        "TrainData.head(3)"
      ],
      "execution_count": 12,
      "outputs": [
        {
          "output_type": "execute_result",
          "data": {
            "text/html": [
              "<div>\n",
              "<style scoped>\n",
              "    .dataframe tbody tr th:only-of-type {\n",
              "        vertical-align: middle;\n",
              "    }\n",
              "\n",
              "    .dataframe tbody tr th {\n",
              "        vertical-align: top;\n",
              "    }\n",
              "\n",
              "    .dataframe thead th {\n",
              "        text-align: right;\n",
              "    }\n",
              "</style>\n",
              "<table border=\"1\" class=\"dataframe\">\n",
              "  <thead>\n",
              "    <tr style=\"text-align: right;\">\n",
              "      <th></th>\n",
              "      <th>Survived</th>\n",
              "      <th>Pclass</th>\n",
              "      <th>Age</th>\n",
              "      <th>SibSp</th>\n",
              "      <th>Parch</th>\n",
              "      <th>Fare</th>\n",
              "      <th>Sex_male</th>\n",
              "      <th>Embarked_Q</th>\n",
              "      <th>Embarked_S</th>\n",
              "    </tr>\n",
              "    <tr>\n",
              "      <th>PassengerId</th>\n",
              "      <th></th>\n",
              "      <th></th>\n",
              "      <th></th>\n",
              "      <th></th>\n",
              "      <th></th>\n",
              "      <th></th>\n",
              "      <th></th>\n",
              "      <th></th>\n",
              "      <th></th>\n",
              "    </tr>\n",
              "  </thead>\n",
              "  <tbody>\n",
              "    <tr>\n",
              "      <th>1</th>\n",
              "      <td>0</td>\n",
              "      <td>3</td>\n",
              "      <td>22.0</td>\n",
              "      <td>1</td>\n",
              "      <td>0</td>\n",
              "      <td>7.2500</td>\n",
              "      <td>1</td>\n",
              "      <td>0</td>\n",
              "      <td>1</td>\n",
              "    </tr>\n",
              "    <tr>\n",
              "      <th>2</th>\n",
              "      <td>1</td>\n",
              "      <td>1</td>\n",
              "      <td>38.0</td>\n",
              "      <td>1</td>\n",
              "      <td>0</td>\n",
              "      <td>71.2833</td>\n",
              "      <td>0</td>\n",
              "      <td>0</td>\n",
              "      <td>0</td>\n",
              "    </tr>\n",
              "    <tr>\n",
              "      <th>3</th>\n",
              "      <td>1</td>\n",
              "      <td>3</td>\n",
              "      <td>26.0</td>\n",
              "      <td>0</td>\n",
              "      <td>0</td>\n",
              "      <td>7.9250</td>\n",
              "      <td>0</td>\n",
              "      <td>0</td>\n",
              "      <td>1</td>\n",
              "    </tr>\n",
              "  </tbody>\n",
              "</table>\n",
              "</div>"
            ],
            "text/plain": [
              "             Survived  Pclass   Age  ...  Sex_male  Embarked_Q  Embarked_S\n",
              "PassengerId                          ...                                  \n",
              "1                   0       3  22.0  ...         1           0           1\n",
              "2                   1       1  38.0  ...         0           0           0\n",
              "3                   1       3  26.0  ...         0           0           1\n",
              "\n",
              "[3 rows x 9 columns]"
            ]
          },
          "metadata": {
            "tags": []
          },
          "execution_count": 12
        }
      ]
    },
    {
      "cell_type": "code",
      "metadata": {
        "id": "2M4mjPiJdS9i",
        "colab_type": "code",
        "colab": {
          "base_uri": "https://localhost:8080/",
          "height": 175
        },
        "outputId": "201027fb-ada8-48de-cbe6-e7a5a57354ac"
      },
      "source": [
        "# First 3 rows of the Testing set\n",
        "TestData.head(3)"
      ],
      "execution_count": 36,
      "outputs": [
        {
          "output_type": "execute_result",
          "data": {
            "text/html": [
              "<div>\n",
              "<style scoped>\n",
              "    .dataframe tbody tr th:only-of-type {\n",
              "        vertical-align: middle;\n",
              "    }\n",
              "\n",
              "    .dataframe tbody tr th {\n",
              "        vertical-align: top;\n",
              "    }\n",
              "\n",
              "    .dataframe thead th {\n",
              "        text-align: right;\n",
              "    }\n",
              "</style>\n",
              "<table border=\"1\" class=\"dataframe\">\n",
              "  <thead>\n",
              "    <tr style=\"text-align: right;\">\n",
              "      <th></th>\n",
              "      <th>Pclass</th>\n",
              "      <th>Age</th>\n",
              "      <th>SibSp</th>\n",
              "      <th>Parch</th>\n",
              "      <th>Fare</th>\n",
              "      <th>Sex_male</th>\n",
              "      <th>Embarked_Q</th>\n",
              "      <th>Embarked_S</th>\n",
              "    </tr>\n",
              "    <tr>\n",
              "      <th>PassengerId</th>\n",
              "      <th></th>\n",
              "      <th></th>\n",
              "      <th></th>\n",
              "      <th></th>\n",
              "      <th></th>\n",
              "      <th></th>\n",
              "      <th></th>\n",
              "      <th></th>\n",
              "    </tr>\n",
              "  </thead>\n",
              "  <tbody>\n",
              "    <tr>\n",
              "      <th>892</th>\n",
              "      <td>3</td>\n",
              "      <td>34.5</td>\n",
              "      <td>0</td>\n",
              "      <td>0</td>\n",
              "      <td>7.8292</td>\n",
              "      <td>1</td>\n",
              "      <td>1</td>\n",
              "      <td>0</td>\n",
              "    </tr>\n",
              "    <tr>\n",
              "      <th>893</th>\n",
              "      <td>3</td>\n",
              "      <td>47.0</td>\n",
              "      <td>1</td>\n",
              "      <td>0</td>\n",
              "      <td>7.0000</td>\n",
              "      <td>0</td>\n",
              "      <td>0</td>\n",
              "      <td>1</td>\n",
              "    </tr>\n",
              "    <tr>\n",
              "      <th>894</th>\n",
              "      <td>2</td>\n",
              "      <td>62.0</td>\n",
              "      <td>0</td>\n",
              "      <td>0</td>\n",
              "      <td>9.6875</td>\n",
              "      <td>1</td>\n",
              "      <td>1</td>\n",
              "      <td>0</td>\n",
              "    </tr>\n",
              "  </tbody>\n",
              "</table>\n",
              "</div>"
            ],
            "text/plain": [
              "             Pclass   Age  SibSp  ...  Sex_male  Embarked_Q  Embarked_S\n",
              "PassengerId                       ...                                  \n",
              "892               3  34.5      0  ...         1           1           0\n",
              "893               3  47.0      1  ...         0           0           1\n",
              "894               2  62.0      0  ...         1           1           0\n",
              "\n",
              "[3 rows x 8 columns]"
            ]
          },
          "metadata": {
            "tags": []
          },
          "execution_count": 36
        }
      ]
    },
    {
      "cell_type": "code",
      "metadata": {
        "id": "u4_fY6mCz8ci",
        "colab_type": "code",
        "outputId": "b1173254-2ed6-4ed1-e9b1-134d4e118fa5",
        "colab": {
          "base_uri": "https://localhost:8080/",
          "height": 182
        }
      },
      "source": [
        "list(TrainData.columns)"
      ],
      "execution_count": 13,
      "outputs": [
        {
          "output_type": "execute_result",
          "data": {
            "text/plain": [
              "['Survived',\n",
              " 'Pclass',\n",
              " 'Age',\n",
              " 'SibSp',\n",
              " 'Parch',\n",
              " 'Fare',\n",
              " 'Sex_male',\n",
              " 'Embarked_Q',\n",
              " 'Embarked_S']"
            ]
          },
          "metadata": {
            "tags": []
          },
          "execution_count": 13
        }
      ]
    },
    {
      "cell_type": "code",
      "metadata": {
        "id": "PleoXnjRddLk",
        "colab_type": "code",
        "colab": {
          "base_uri": "https://localhost:8080/",
          "height": 164
        },
        "outputId": "cb6ba4c0-312a-49ce-92b1-3c2923616756"
      },
      "source": [
        "list(TestData.columns)"
      ],
      "execution_count": 37,
      "outputs": [
        {
          "output_type": "execute_result",
          "data": {
            "text/plain": [
              "['Pclass',\n",
              " 'Age',\n",
              " 'SibSp',\n",
              " 'Parch',\n",
              " 'Fare',\n",
              " 'Sex_male',\n",
              " 'Embarked_Q',\n",
              " 'Embarked_S']"
            ]
          },
          "metadata": {
            "tags": []
          },
          "execution_count": 37
        }
      ]
    },
    {
      "cell_type": "code",
      "metadata": {
        "id": "ferwT2nudtIK",
        "colab_type": "code",
        "colab": {}
      },
      "source": [
        "def df2csv(data, filename):\n",
        "    '''\n",
        "    Function to create a csv from Dataframe & save to a local location\n",
        "    '''\n",
        "    return data.to_csv(f'{PATH}{filename}')"
      ],
      "execution_count": 0,
      "outputs": []
    },
    {
      "cell_type": "code",
      "metadata": {
        "id": "g28yl5yQykIs",
        "colab_type": "code",
        "colab": {}
      },
      "source": [
        "df2csv(TrainData, 'encodedTrain.csv')\n",
        "df2csv(TestData, 'encodedTest.csv')"
      ],
      "execution_count": 0,
      "outputs": []
    }
  ]
}