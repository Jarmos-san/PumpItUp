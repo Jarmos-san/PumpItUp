{
  "nbformat": 4,
  "nbformat_minor": 0,
  "metadata": {
    "colab": {
      "name": "EDA.ipynb",
      "provenance": [],
      "collapsed_sections": [],
      "authorship_tag": "ABX9TyNI1gOinZfDrhXUCtCzciGN",
      "include_colab_link": true
    },
    "kernelspec": {
      "name": "python3",
      "display_name": "Python 3"
    }
  },
  "cells": [
    {
      "cell_type": "markdown",
      "metadata": {
        "id": "view-in-github",
        "colab_type": "text"
      },
      "source": [
        "<a href=\"https://colab.research.google.com/github/Jarmos-san/PumpItUp/blob/master/EDA.ipynb\" target=\"_parent\"><img src=\"https://colab.research.google.com/assets/colab-badge.svg\" alt=\"Open In Colab\"/></a>"
      ]
    },
    {
      "cell_type": "markdown",
      "metadata": {
        "id": "VBO3Px18TGoH",
        "colab_type": "text"
      },
      "source": [
        "# [DrivenData Competition | Pump it Up: Data Mining the Water Table](https://www.drivendata.org/competitions/7/pump-it-up-data-mining-the-water-table/page/23/)\n",
        "\n",
        "Using data from Taarifa and the Tanzanian Ministry of Water, can you **predict which pumps are functional**, which **need some repairs**, and which **don't work at all**? This is an intermediate-level practice competition. Predict one of these three classes based on a number of variables about what kind of **pump is operating**, when it was installed, and how it is managed. A smart understanding of which waterpoints will fail can improve maintenance operations and ensure that clean, potable water is available to communities across Tanzania."
      ]
    },
    {
      "cell_type": "markdown",
      "metadata": {
        "id": "JRfM4MCc8zHR",
        "colab_type": "text"
      },
      "source": [
        "# Importing Necessary Libraries"
      ]
    },
    {
      "cell_type": "code",
      "metadata": {
        "id": "T9meWo_eSrxm",
        "colab_type": "code",
        "outputId": "f8f2b487-ade4-4b64-dc73-b5aa0b411de4",
        "colab": {
          "base_uri": "https://localhost:8080/",
          "height": 0
        }
      },
      "source": [
        "# Loading necessary libraries\n",
        "import pandas as pd\n",
        "import missingno\n",
        "import numpy as np\n",
        "\n",
        "# Plotting libraries\n",
        "import matplotlib.pyplot as plt\n",
        "import seaborn as sns\n",
        "\n",
        "# Checking the version for easier debugging at some point of time.\n",
        "# print(f'Python v{python3.__version__}')\n",
        "print(f'Pandas v{pd.__version__}')\n",
        "print(f'Missingno v{missingno.__version__}')\n",
        "print(f'Numpy v{np.__version__}')\n",
        "print(f'Seaborn v{sns.__version__}')\n",
        "\n",
        "# Instantiating a GDrive mount\n",
        "from google.colab import drive\n",
        "drive.mount('/content/gdrive')\n",
        "\n",
        "%cd /content/gdrive/My Drive/PumpItUp/data\n",
        "%matplotlib inline\n",
        "sns.set_style(style='darkgrid')"
      ],
      "execution_count": 41,
      "outputs": [
        {
          "output_type": "stream",
          "text": [
            "Pandas v0.25.3\n",
            "Missingno v0.4.2\n",
            "Numpy v1.17.5\n",
            "Seaborn v0.10.0\n",
            "Drive already mounted at /content/gdrive; to attempt to forcibly remount, call drive.mount(\"/content/gdrive\", force_remount=True).\n",
            "/content/gdrive/My Drive/PumpItUp/data\n"
          ],
          "name": "stdout"
        }
      ]
    },
    {
      "cell_type": "markdown",
      "metadata": {
        "id": "TlUPUky686Yh",
        "colab_type": "text"
      },
      "source": [
        "# Loading Files"
      ]
    },
    {
      "cell_type": "code",
      "metadata": {
        "id": "1l4V5VTnVMLX",
        "colab_type": "code",
        "outputId": "fd54fa3e-8765-431a-b61e-273255e5eef6",
        "colab": {
          "base_uri": "https://localhost:8080/",
          "height": 54
        }
      },
      "source": [
        "FILEPATH = '/content/gdrive/My Drive/PumpItUp/data/'\n",
        "\n",
        "# Load .csv files\n",
        "TestData = pd.read_csv(f'{FILEPATH}TestData')\n",
        "TrainData = pd.read_csv(f'{FILEPATH}TrainData')\n",
        "\n",
        "print(f'The Training Set has {TrainData.shape[0]} rows & {TrainData.shape[1]} columns.')\n",
        "print(f'The Testing Set has {TestData.shape[0]} rows & {TestData.shape[1]} columns.')"
      ],
      "execution_count": 42,
      "outputs": [
        {
          "output_type": "stream",
          "text": [
            "The Training Set has 59400 rows & 41 columns.\n",
            "The Testing Set has 14850 rows & 40 columns.\n"
          ],
          "name": "stdout"
        }
      ]
    },
    {
      "cell_type": "markdown",
      "metadata": {
        "id": "Qu3IK2XRh6og",
        "colab_type": "text"
      },
      "source": [
        "# Exploratory Data Analysis"
      ]
    },
    {
      "cell_type": "markdown",
      "metadata": {
        "id": "ZdgFmMmd03ZT",
        "colab_type": "text"
      },
      "source": [
        "## Inferences"
      ]
    },
    {
      "cell_type": "code",
      "metadata": {
        "id": "hxPhDt-TVfX6",
        "colab_type": "code",
        "outputId": "19c5f6bb-901f-41a4-b9f0-01686d82d5b8",
        "colab": {
          "base_uri": "https://localhost:8080/",
          "height": 135
        }
      },
      "source": [
        "TrainData.sample()"
      ],
      "execution_count": 43,
      "outputs": [
        {
          "output_type": "execute_result",
          "data": {
            "text/html": [
              "<div>\n",
              "<style scoped>\n",
              "    .dataframe tbody tr th:only-of-type {\n",
              "        vertical-align: middle;\n",
              "    }\n",
              "\n",
              "    .dataframe tbody tr th {\n",
              "        vertical-align: top;\n",
              "    }\n",
              "\n",
              "    .dataframe thead th {\n",
              "        text-align: right;\n",
              "    }\n",
              "</style>\n",
              "<table border=\"1\" class=\"dataframe\">\n",
              "  <thead>\n",
              "    <tr style=\"text-align: right;\">\n",
              "      <th></th>\n",
              "      <th>ID</th>\n",
              "      <th>TSHAmount</th>\n",
              "      <th>DateRecorded</th>\n",
              "      <th>Funder</th>\n",
              "      <th>GPSHeight</th>\n",
              "      <th>Installer</th>\n",
              "      <th>Longitutde</th>\n",
              "      <th>Latitude</th>\n",
              "      <th>WaterPointName</th>\n",
              "      <th>PrivateNum</th>\n",
              "      <th>Basin</th>\n",
              "      <th>SubVillage</th>\n",
              "      <th>Region</th>\n",
              "      <th>RegionCode</th>\n",
              "      <th>DistrictCode</th>\n",
              "      <th>LocalGovernmentArea</th>\n",
              "      <th>Ward</th>\n",
              "      <th>Population</th>\n",
              "      <th>PublicMeeting</th>\n",
              "      <th>RecordedBy</th>\n",
              "      <th>SchemeManagement</th>\n",
              "      <th>SchemeName</th>\n",
              "      <th>Permit</th>\n",
              "      <th>ConstructionYear</th>\n",
              "      <th>ExtractionType</th>\n",
              "      <th>ExtractionTypeGroup</th>\n",
              "      <th>ExtractionTypeClass</th>\n",
              "      <th>Management</th>\n",
              "      <th>ManagementGroup</th>\n",
              "      <th>Payment</th>\n",
              "      <th>PaymentType</th>\n",
              "      <th>WaterQuality</th>\n",
              "      <th>QualityGroup</th>\n",
              "      <th>Quantity</th>\n",
              "      <th>QuantityGroup</th>\n",
              "      <th>Source</th>\n",
              "      <th>SourceType</th>\n",
              "      <th>SourceClass</th>\n",
              "      <th>WaterPointType</th>\n",
              "      <th>WaterPointTypeGroup</th>\n",
              "      <th>StatusGroup</th>\n",
              "    </tr>\n",
              "  </thead>\n",
              "  <tbody>\n",
              "    <tr>\n",
              "      <th>12472</th>\n",
              "      <td>53359</td>\n",
              "      <td>100.0</td>\n",
              "      <td>2011-03-04</td>\n",
              "      <td>Government Of Tanzania</td>\n",
              "      <td>478</td>\n",
              "      <td>DWE</td>\n",
              "      <td>38.30997</td>\n",
              "      <td>-4.424544</td>\n",
              "      <td>Kwz Masumbuko</td>\n",
              "      <td>0</td>\n",
              "      <td>Pangani</td>\n",
              "      <td>Videngelesa</td>\n",
              "      <td>Tanga</td>\n",
              "      <td>4</td>\n",
              "      <td>1</td>\n",
              "      <td>Lushoto</td>\n",
              "      <td>Mnazi</td>\n",
              "      <td>1</td>\n",
              "      <td>True</td>\n",
              "      <td>GeoData Consultants Ltd</td>\n",
              "      <td>VWC</td>\n",
              "      <td>Makiyui stream</td>\n",
              "      <td>True</td>\n",
              "      <td>1973.0</td>\n",
              "      <td>gravity</td>\n",
              "      <td>gravity</td>\n",
              "      <td>gravity</td>\n",
              "      <td>vwc</td>\n",
              "      <td>user-group</td>\n",
              "      <td>pay monthly</td>\n",
              "      <td>monthly</td>\n",
              "      <td>soft</td>\n",
              "      <td>good</td>\n",
              "      <td>enough</td>\n",
              "      <td>enough</td>\n",
              "      <td>spring</td>\n",
              "      <td>spring</td>\n",
              "      <td>groundwater</td>\n",
              "      <td>communal standpipe</td>\n",
              "      <td>communal standpipe</td>\n",
              "      <td>non functional</td>\n",
              "    </tr>\n",
              "  </tbody>\n",
              "</table>\n",
              "</div>"
            ],
            "text/plain": [
              "          ID  TSHAmount  ... WaterPointTypeGroup     StatusGroup\n",
              "12472  53359      100.0  ...  communal standpipe  non functional\n",
              "\n",
              "[1 rows x 41 columns]"
            ]
          },
          "metadata": {
            "tags": []
          },
          "execution_count": 43
        }
      ]
    },
    {
      "cell_type": "code",
      "metadata": {
        "id": "S-fOaJLBjg11",
        "colab_type": "code",
        "colab": {
          "base_uri": "https://localhost:8080/",
          "height": 300
        },
        "outputId": "1a3f9978-6236-42c1-88ae-01cb868b9915"
      },
      "source": [
        "TrainData.describe()"
      ],
      "execution_count": 44,
      "outputs": [
        {
          "output_type": "execute_result",
          "data": {
            "text/html": [
              "<div>\n",
              "<style scoped>\n",
              "    .dataframe tbody tr th:only-of-type {\n",
              "        vertical-align: middle;\n",
              "    }\n",
              "\n",
              "    .dataframe tbody tr th {\n",
              "        vertical-align: top;\n",
              "    }\n",
              "\n",
              "    .dataframe thead th {\n",
              "        text-align: right;\n",
              "    }\n",
              "</style>\n",
              "<table border=\"1\" class=\"dataframe\">\n",
              "  <thead>\n",
              "    <tr style=\"text-align: right;\">\n",
              "      <th></th>\n",
              "      <th>ID</th>\n",
              "      <th>TSHAmount</th>\n",
              "      <th>GPSHeight</th>\n",
              "      <th>Longitutde</th>\n",
              "      <th>Latitude</th>\n",
              "      <th>PrivateNum</th>\n",
              "      <th>RegionCode</th>\n",
              "      <th>DistrictCode</th>\n",
              "      <th>Population</th>\n",
              "      <th>ConstructionYear</th>\n",
              "    </tr>\n",
              "  </thead>\n",
              "  <tbody>\n",
              "    <tr>\n",
              "      <th>count</th>\n",
              "      <td>59400.000000</td>\n",
              "      <td>59400.000000</td>\n",
              "      <td>59400.000000</td>\n",
              "      <td>59400.000000</td>\n",
              "      <td>5.940000e+04</td>\n",
              "      <td>59400.000000</td>\n",
              "      <td>59400.000000</td>\n",
              "      <td>59400.000000</td>\n",
              "      <td>59400.000000</td>\n",
              "      <td>38691.000000</td>\n",
              "    </tr>\n",
              "    <tr>\n",
              "      <th>mean</th>\n",
              "      <td>37115.131768</td>\n",
              "      <td>317.650385</td>\n",
              "      <td>668.297239</td>\n",
              "      <td>34.077427</td>\n",
              "      <td>-5.706033e+00</td>\n",
              "      <td>0.474141</td>\n",
              "      <td>15.297003</td>\n",
              "      <td>5.629747</td>\n",
              "      <td>179.909983</td>\n",
              "      <td>1996.814686</td>\n",
              "    </tr>\n",
              "    <tr>\n",
              "      <th>std</th>\n",
              "      <td>21453.128371</td>\n",
              "      <td>2997.574558</td>\n",
              "      <td>693.116350</td>\n",
              "      <td>6.567432</td>\n",
              "      <td>2.946019e+00</td>\n",
              "      <td>12.236230</td>\n",
              "      <td>17.587406</td>\n",
              "      <td>9.633649</td>\n",
              "      <td>471.482176</td>\n",
              "      <td>12.472045</td>\n",
              "    </tr>\n",
              "    <tr>\n",
              "      <th>min</th>\n",
              "      <td>0.000000</td>\n",
              "      <td>0.000000</td>\n",
              "      <td>-90.000000</td>\n",
              "      <td>0.000000</td>\n",
              "      <td>-1.164944e+01</td>\n",
              "      <td>0.000000</td>\n",
              "      <td>1.000000</td>\n",
              "      <td>0.000000</td>\n",
              "      <td>0.000000</td>\n",
              "      <td>1960.000000</td>\n",
              "    </tr>\n",
              "    <tr>\n",
              "      <th>25%</th>\n",
              "      <td>18519.750000</td>\n",
              "      <td>0.000000</td>\n",
              "      <td>0.000000</td>\n",
              "      <td>33.090347</td>\n",
              "      <td>-8.540621e+00</td>\n",
              "      <td>0.000000</td>\n",
              "      <td>5.000000</td>\n",
              "      <td>2.000000</td>\n",
              "      <td>0.000000</td>\n",
              "      <td>1987.000000</td>\n",
              "    </tr>\n",
              "    <tr>\n",
              "      <th>50%</th>\n",
              "      <td>37061.500000</td>\n",
              "      <td>0.000000</td>\n",
              "      <td>369.000000</td>\n",
              "      <td>34.908743</td>\n",
              "      <td>-5.021597e+00</td>\n",
              "      <td>0.000000</td>\n",
              "      <td>12.000000</td>\n",
              "      <td>3.000000</td>\n",
              "      <td>25.000000</td>\n",
              "      <td>2000.000000</td>\n",
              "    </tr>\n",
              "    <tr>\n",
              "      <th>75%</th>\n",
              "      <td>55656.500000</td>\n",
              "      <td>20.000000</td>\n",
              "      <td>1319.250000</td>\n",
              "      <td>37.178387</td>\n",
              "      <td>-3.326156e+00</td>\n",
              "      <td>0.000000</td>\n",
              "      <td>17.000000</td>\n",
              "      <td>5.000000</td>\n",
              "      <td>215.000000</td>\n",
              "      <td>2008.000000</td>\n",
              "    </tr>\n",
              "    <tr>\n",
              "      <th>max</th>\n",
              "      <td>74247.000000</td>\n",
              "      <td>350000.000000</td>\n",
              "      <td>2770.000000</td>\n",
              "      <td>40.345193</td>\n",
              "      <td>-2.000000e-08</td>\n",
              "      <td>1776.000000</td>\n",
              "      <td>99.000000</td>\n",
              "      <td>80.000000</td>\n",
              "      <td>30500.000000</td>\n",
              "      <td>2013.000000</td>\n",
              "    </tr>\n",
              "  </tbody>\n",
              "</table>\n",
              "</div>"
            ],
            "text/plain": [
              "                 ID      TSHAmount  ...    Population  ConstructionYear\n",
              "count  59400.000000   59400.000000  ...  59400.000000      38691.000000\n",
              "mean   37115.131768     317.650385  ...    179.909983       1996.814686\n",
              "std    21453.128371    2997.574558  ...    471.482176         12.472045\n",
              "min        0.000000       0.000000  ...      0.000000       1960.000000\n",
              "25%    18519.750000       0.000000  ...      0.000000       1987.000000\n",
              "50%    37061.500000       0.000000  ...     25.000000       2000.000000\n",
              "75%    55656.500000      20.000000  ...    215.000000       2008.000000\n",
              "max    74247.000000  350000.000000  ...  30500.000000       2013.000000\n",
              "\n",
              "[8 rows x 10 columns]"
            ]
          },
          "metadata": {
            "tags": []
          },
          "execution_count": 44
        }
      ]
    },
    {
      "cell_type": "code",
      "metadata": {
        "id": "MPTuTny9sBNp",
        "colab_type": "code",
        "colab": {
          "base_uri": "https://localhost:8080/",
          "height": 449
        },
        "outputId": "a0dfdd6c-e277-4896-b339-45a66dab4813"
      },
      "source": [
        "TrainData.describe(include='all')"
      ],
      "execution_count": 45,
      "outputs": [
        {
          "output_type": "execute_result",
          "data": {
            "text/html": [
              "<div>\n",
              "<style scoped>\n",
              "    .dataframe tbody tr th:only-of-type {\n",
              "        vertical-align: middle;\n",
              "    }\n",
              "\n",
              "    .dataframe tbody tr th {\n",
              "        vertical-align: top;\n",
              "    }\n",
              "\n",
              "    .dataframe thead th {\n",
              "        text-align: right;\n",
              "    }\n",
              "</style>\n",
              "<table border=\"1\" class=\"dataframe\">\n",
              "  <thead>\n",
              "    <tr style=\"text-align: right;\">\n",
              "      <th></th>\n",
              "      <th>ID</th>\n",
              "      <th>TSHAmount</th>\n",
              "      <th>DateRecorded</th>\n",
              "      <th>Funder</th>\n",
              "      <th>GPSHeight</th>\n",
              "      <th>Installer</th>\n",
              "      <th>Longitutde</th>\n",
              "      <th>Latitude</th>\n",
              "      <th>WaterPointName</th>\n",
              "      <th>PrivateNum</th>\n",
              "      <th>Basin</th>\n",
              "      <th>SubVillage</th>\n",
              "      <th>Region</th>\n",
              "      <th>RegionCode</th>\n",
              "      <th>DistrictCode</th>\n",
              "      <th>LocalGovernmentArea</th>\n",
              "      <th>Ward</th>\n",
              "      <th>Population</th>\n",
              "      <th>PublicMeeting</th>\n",
              "      <th>RecordedBy</th>\n",
              "      <th>SchemeManagement</th>\n",
              "      <th>SchemeName</th>\n",
              "      <th>Permit</th>\n",
              "      <th>ConstructionYear</th>\n",
              "      <th>ExtractionType</th>\n",
              "      <th>ExtractionTypeGroup</th>\n",
              "      <th>ExtractionTypeClass</th>\n",
              "      <th>Management</th>\n",
              "      <th>ManagementGroup</th>\n",
              "      <th>Payment</th>\n",
              "      <th>PaymentType</th>\n",
              "      <th>WaterQuality</th>\n",
              "      <th>QualityGroup</th>\n",
              "      <th>Quantity</th>\n",
              "      <th>QuantityGroup</th>\n",
              "      <th>Source</th>\n",
              "      <th>SourceType</th>\n",
              "      <th>SourceClass</th>\n",
              "      <th>WaterPointType</th>\n",
              "      <th>WaterPointTypeGroup</th>\n",
              "      <th>StatusGroup</th>\n",
              "    </tr>\n",
              "  </thead>\n",
              "  <tbody>\n",
              "    <tr>\n",
              "      <th>count</th>\n",
              "      <td>59400.000000</td>\n",
              "      <td>59400.000000</td>\n",
              "      <td>59400</td>\n",
              "      <td>55765</td>\n",
              "      <td>59400.000000</td>\n",
              "      <td>55745</td>\n",
              "      <td>59400.000000</td>\n",
              "      <td>5.940000e+04</td>\n",
              "      <td>59400</td>\n",
              "      <td>59400.000000</td>\n",
              "      <td>59400</td>\n",
              "      <td>59029</td>\n",
              "      <td>59400</td>\n",
              "      <td>59400.000000</td>\n",
              "      <td>59400.000000</td>\n",
              "      <td>59400</td>\n",
              "      <td>59400</td>\n",
              "      <td>59400.000000</td>\n",
              "      <td>56066</td>\n",
              "      <td>59400</td>\n",
              "      <td>55523</td>\n",
              "      <td>31234</td>\n",
              "      <td>56344</td>\n",
              "      <td>38691.000000</td>\n",
              "      <td>59400</td>\n",
              "      <td>59400</td>\n",
              "      <td>59400</td>\n",
              "      <td>59400</td>\n",
              "      <td>59400</td>\n",
              "      <td>59400</td>\n",
              "      <td>59400</td>\n",
              "      <td>59400</td>\n",
              "      <td>59400</td>\n",
              "      <td>59400</td>\n",
              "      <td>59400</td>\n",
              "      <td>59400</td>\n",
              "      <td>59400</td>\n",
              "      <td>59400</td>\n",
              "      <td>59400</td>\n",
              "      <td>59400</td>\n",
              "      <td>59400</td>\n",
              "    </tr>\n",
              "    <tr>\n",
              "      <th>unique</th>\n",
              "      <td>NaN</td>\n",
              "      <td>NaN</td>\n",
              "      <td>356</td>\n",
              "      <td>1897</td>\n",
              "      <td>NaN</td>\n",
              "      <td>2145</td>\n",
              "      <td>NaN</td>\n",
              "      <td>NaN</td>\n",
              "      <td>37400</td>\n",
              "      <td>NaN</td>\n",
              "      <td>9</td>\n",
              "      <td>19287</td>\n",
              "      <td>21</td>\n",
              "      <td>NaN</td>\n",
              "      <td>NaN</td>\n",
              "      <td>125</td>\n",
              "      <td>2092</td>\n",
              "      <td>NaN</td>\n",
              "      <td>2</td>\n",
              "      <td>1</td>\n",
              "      <td>12</td>\n",
              "      <td>2696</td>\n",
              "      <td>2</td>\n",
              "      <td>NaN</td>\n",
              "      <td>18</td>\n",
              "      <td>13</td>\n",
              "      <td>7</td>\n",
              "      <td>12</td>\n",
              "      <td>5</td>\n",
              "      <td>7</td>\n",
              "      <td>7</td>\n",
              "      <td>8</td>\n",
              "      <td>6</td>\n",
              "      <td>5</td>\n",
              "      <td>5</td>\n",
              "      <td>10</td>\n",
              "      <td>7</td>\n",
              "      <td>3</td>\n",
              "      <td>7</td>\n",
              "      <td>6</td>\n",
              "      <td>3</td>\n",
              "    </tr>\n",
              "    <tr>\n",
              "      <th>top</th>\n",
              "      <td>NaN</td>\n",
              "      <td>NaN</td>\n",
              "      <td>2011-03-15</td>\n",
              "      <td>Government Of Tanzania</td>\n",
              "      <td>NaN</td>\n",
              "      <td>DWE</td>\n",
              "      <td>NaN</td>\n",
              "      <td>NaN</td>\n",
              "      <td>none</td>\n",
              "      <td>NaN</td>\n",
              "      <td>Lake Victoria</td>\n",
              "      <td>Madukani</td>\n",
              "      <td>Iringa</td>\n",
              "      <td>NaN</td>\n",
              "      <td>NaN</td>\n",
              "      <td>Njombe</td>\n",
              "      <td>Igosi</td>\n",
              "      <td>NaN</td>\n",
              "      <td>True</td>\n",
              "      <td>GeoData Consultants Ltd</td>\n",
              "      <td>VWC</td>\n",
              "      <td>K</td>\n",
              "      <td>True</td>\n",
              "      <td>NaN</td>\n",
              "      <td>gravity</td>\n",
              "      <td>gravity</td>\n",
              "      <td>gravity</td>\n",
              "      <td>vwc</td>\n",
              "      <td>user-group</td>\n",
              "      <td>never pay</td>\n",
              "      <td>never pay</td>\n",
              "      <td>soft</td>\n",
              "      <td>good</td>\n",
              "      <td>enough</td>\n",
              "      <td>enough</td>\n",
              "      <td>spring</td>\n",
              "      <td>spring</td>\n",
              "      <td>groundwater</td>\n",
              "      <td>communal standpipe</td>\n",
              "      <td>communal standpipe</td>\n",
              "      <td>functional</td>\n",
              "    </tr>\n",
              "    <tr>\n",
              "      <th>freq</th>\n",
              "      <td>NaN</td>\n",
              "      <td>NaN</td>\n",
              "      <td>572</td>\n",
              "      <td>9084</td>\n",
              "      <td>NaN</td>\n",
              "      <td>17402</td>\n",
              "      <td>NaN</td>\n",
              "      <td>NaN</td>\n",
              "      <td>3563</td>\n",
              "      <td>NaN</td>\n",
              "      <td>10248</td>\n",
              "      <td>508</td>\n",
              "      <td>5294</td>\n",
              "      <td>NaN</td>\n",
              "      <td>NaN</td>\n",
              "      <td>2503</td>\n",
              "      <td>307</td>\n",
              "      <td>NaN</td>\n",
              "      <td>51011</td>\n",
              "      <td>59400</td>\n",
              "      <td>36793</td>\n",
              "      <td>682</td>\n",
              "      <td>38852</td>\n",
              "      <td>NaN</td>\n",
              "      <td>26780</td>\n",
              "      <td>26780</td>\n",
              "      <td>26780</td>\n",
              "      <td>40507</td>\n",
              "      <td>52490</td>\n",
              "      <td>25348</td>\n",
              "      <td>25348</td>\n",
              "      <td>50818</td>\n",
              "      <td>50818</td>\n",
              "      <td>33186</td>\n",
              "      <td>33186</td>\n",
              "      <td>17021</td>\n",
              "      <td>17021</td>\n",
              "      <td>45794</td>\n",
              "      <td>28522</td>\n",
              "      <td>34625</td>\n",
              "      <td>32259</td>\n",
              "    </tr>\n",
              "    <tr>\n",
              "      <th>mean</th>\n",
              "      <td>37115.131768</td>\n",
              "      <td>317.650385</td>\n",
              "      <td>NaN</td>\n",
              "      <td>NaN</td>\n",
              "      <td>668.297239</td>\n",
              "      <td>NaN</td>\n",
              "      <td>34.077427</td>\n",
              "      <td>-5.706033e+00</td>\n",
              "      <td>NaN</td>\n",
              "      <td>0.474141</td>\n",
              "      <td>NaN</td>\n",
              "      <td>NaN</td>\n",
              "      <td>NaN</td>\n",
              "      <td>15.297003</td>\n",
              "      <td>5.629747</td>\n",
              "      <td>NaN</td>\n",
              "      <td>NaN</td>\n",
              "      <td>179.909983</td>\n",
              "      <td>NaN</td>\n",
              "      <td>NaN</td>\n",
              "      <td>NaN</td>\n",
              "      <td>NaN</td>\n",
              "      <td>NaN</td>\n",
              "      <td>1996.814686</td>\n",
              "      <td>NaN</td>\n",
              "      <td>NaN</td>\n",
              "      <td>NaN</td>\n",
              "      <td>NaN</td>\n",
              "      <td>NaN</td>\n",
              "      <td>NaN</td>\n",
              "      <td>NaN</td>\n",
              "      <td>NaN</td>\n",
              "      <td>NaN</td>\n",
              "      <td>NaN</td>\n",
              "      <td>NaN</td>\n",
              "      <td>NaN</td>\n",
              "      <td>NaN</td>\n",
              "      <td>NaN</td>\n",
              "      <td>NaN</td>\n",
              "      <td>NaN</td>\n",
              "      <td>NaN</td>\n",
              "    </tr>\n",
              "    <tr>\n",
              "      <th>std</th>\n",
              "      <td>21453.128371</td>\n",
              "      <td>2997.574558</td>\n",
              "      <td>NaN</td>\n",
              "      <td>NaN</td>\n",
              "      <td>693.116350</td>\n",
              "      <td>NaN</td>\n",
              "      <td>6.567432</td>\n",
              "      <td>2.946019e+00</td>\n",
              "      <td>NaN</td>\n",
              "      <td>12.236230</td>\n",
              "      <td>NaN</td>\n",
              "      <td>NaN</td>\n",
              "      <td>NaN</td>\n",
              "      <td>17.587406</td>\n",
              "      <td>9.633649</td>\n",
              "      <td>NaN</td>\n",
              "      <td>NaN</td>\n",
              "      <td>471.482176</td>\n",
              "      <td>NaN</td>\n",
              "      <td>NaN</td>\n",
              "      <td>NaN</td>\n",
              "      <td>NaN</td>\n",
              "      <td>NaN</td>\n",
              "      <td>12.472045</td>\n",
              "      <td>NaN</td>\n",
              "      <td>NaN</td>\n",
              "      <td>NaN</td>\n",
              "      <td>NaN</td>\n",
              "      <td>NaN</td>\n",
              "      <td>NaN</td>\n",
              "      <td>NaN</td>\n",
              "      <td>NaN</td>\n",
              "      <td>NaN</td>\n",
              "      <td>NaN</td>\n",
              "      <td>NaN</td>\n",
              "      <td>NaN</td>\n",
              "      <td>NaN</td>\n",
              "      <td>NaN</td>\n",
              "      <td>NaN</td>\n",
              "      <td>NaN</td>\n",
              "      <td>NaN</td>\n",
              "    </tr>\n",
              "    <tr>\n",
              "      <th>min</th>\n",
              "      <td>0.000000</td>\n",
              "      <td>0.000000</td>\n",
              "      <td>NaN</td>\n",
              "      <td>NaN</td>\n",
              "      <td>-90.000000</td>\n",
              "      <td>NaN</td>\n",
              "      <td>0.000000</td>\n",
              "      <td>-1.164944e+01</td>\n",
              "      <td>NaN</td>\n",
              "      <td>0.000000</td>\n",
              "      <td>NaN</td>\n",
              "      <td>NaN</td>\n",
              "      <td>NaN</td>\n",
              "      <td>1.000000</td>\n",
              "      <td>0.000000</td>\n",
              "      <td>NaN</td>\n",
              "      <td>NaN</td>\n",
              "      <td>0.000000</td>\n",
              "      <td>NaN</td>\n",
              "      <td>NaN</td>\n",
              "      <td>NaN</td>\n",
              "      <td>NaN</td>\n",
              "      <td>NaN</td>\n",
              "      <td>1960.000000</td>\n",
              "      <td>NaN</td>\n",
              "      <td>NaN</td>\n",
              "      <td>NaN</td>\n",
              "      <td>NaN</td>\n",
              "      <td>NaN</td>\n",
              "      <td>NaN</td>\n",
              "      <td>NaN</td>\n",
              "      <td>NaN</td>\n",
              "      <td>NaN</td>\n",
              "      <td>NaN</td>\n",
              "      <td>NaN</td>\n",
              "      <td>NaN</td>\n",
              "      <td>NaN</td>\n",
              "      <td>NaN</td>\n",
              "      <td>NaN</td>\n",
              "      <td>NaN</td>\n",
              "      <td>NaN</td>\n",
              "    </tr>\n",
              "    <tr>\n",
              "      <th>25%</th>\n",
              "      <td>18519.750000</td>\n",
              "      <td>0.000000</td>\n",
              "      <td>NaN</td>\n",
              "      <td>NaN</td>\n",
              "      <td>0.000000</td>\n",
              "      <td>NaN</td>\n",
              "      <td>33.090347</td>\n",
              "      <td>-8.540621e+00</td>\n",
              "      <td>NaN</td>\n",
              "      <td>0.000000</td>\n",
              "      <td>NaN</td>\n",
              "      <td>NaN</td>\n",
              "      <td>NaN</td>\n",
              "      <td>5.000000</td>\n",
              "      <td>2.000000</td>\n",
              "      <td>NaN</td>\n",
              "      <td>NaN</td>\n",
              "      <td>0.000000</td>\n",
              "      <td>NaN</td>\n",
              "      <td>NaN</td>\n",
              "      <td>NaN</td>\n",
              "      <td>NaN</td>\n",
              "      <td>NaN</td>\n",
              "      <td>1987.000000</td>\n",
              "      <td>NaN</td>\n",
              "      <td>NaN</td>\n",
              "      <td>NaN</td>\n",
              "      <td>NaN</td>\n",
              "      <td>NaN</td>\n",
              "      <td>NaN</td>\n",
              "      <td>NaN</td>\n",
              "      <td>NaN</td>\n",
              "      <td>NaN</td>\n",
              "      <td>NaN</td>\n",
              "      <td>NaN</td>\n",
              "      <td>NaN</td>\n",
              "      <td>NaN</td>\n",
              "      <td>NaN</td>\n",
              "      <td>NaN</td>\n",
              "      <td>NaN</td>\n",
              "      <td>NaN</td>\n",
              "    </tr>\n",
              "    <tr>\n",
              "      <th>50%</th>\n",
              "      <td>37061.500000</td>\n",
              "      <td>0.000000</td>\n",
              "      <td>NaN</td>\n",
              "      <td>NaN</td>\n",
              "      <td>369.000000</td>\n",
              "      <td>NaN</td>\n",
              "      <td>34.908743</td>\n",
              "      <td>-5.021597e+00</td>\n",
              "      <td>NaN</td>\n",
              "      <td>0.000000</td>\n",
              "      <td>NaN</td>\n",
              "      <td>NaN</td>\n",
              "      <td>NaN</td>\n",
              "      <td>12.000000</td>\n",
              "      <td>3.000000</td>\n",
              "      <td>NaN</td>\n",
              "      <td>NaN</td>\n",
              "      <td>25.000000</td>\n",
              "      <td>NaN</td>\n",
              "      <td>NaN</td>\n",
              "      <td>NaN</td>\n",
              "      <td>NaN</td>\n",
              "      <td>NaN</td>\n",
              "      <td>2000.000000</td>\n",
              "      <td>NaN</td>\n",
              "      <td>NaN</td>\n",
              "      <td>NaN</td>\n",
              "      <td>NaN</td>\n",
              "      <td>NaN</td>\n",
              "      <td>NaN</td>\n",
              "      <td>NaN</td>\n",
              "      <td>NaN</td>\n",
              "      <td>NaN</td>\n",
              "      <td>NaN</td>\n",
              "      <td>NaN</td>\n",
              "      <td>NaN</td>\n",
              "      <td>NaN</td>\n",
              "      <td>NaN</td>\n",
              "      <td>NaN</td>\n",
              "      <td>NaN</td>\n",
              "      <td>NaN</td>\n",
              "    </tr>\n",
              "    <tr>\n",
              "      <th>75%</th>\n",
              "      <td>55656.500000</td>\n",
              "      <td>20.000000</td>\n",
              "      <td>NaN</td>\n",
              "      <td>NaN</td>\n",
              "      <td>1319.250000</td>\n",
              "      <td>NaN</td>\n",
              "      <td>37.178387</td>\n",
              "      <td>-3.326156e+00</td>\n",
              "      <td>NaN</td>\n",
              "      <td>0.000000</td>\n",
              "      <td>NaN</td>\n",
              "      <td>NaN</td>\n",
              "      <td>NaN</td>\n",
              "      <td>17.000000</td>\n",
              "      <td>5.000000</td>\n",
              "      <td>NaN</td>\n",
              "      <td>NaN</td>\n",
              "      <td>215.000000</td>\n",
              "      <td>NaN</td>\n",
              "      <td>NaN</td>\n",
              "      <td>NaN</td>\n",
              "      <td>NaN</td>\n",
              "      <td>NaN</td>\n",
              "      <td>2008.000000</td>\n",
              "      <td>NaN</td>\n",
              "      <td>NaN</td>\n",
              "      <td>NaN</td>\n",
              "      <td>NaN</td>\n",
              "      <td>NaN</td>\n",
              "      <td>NaN</td>\n",
              "      <td>NaN</td>\n",
              "      <td>NaN</td>\n",
              "      <td>NaN</td>\n",
              "      <td>NaN</td>\n",
              "      <td>NaN</td>\n",
              "      <td>NaN</td>\n",
              "      <td>NaN</td>\n",
              "      <td>NaN</td>\n",
              "      <td>NaN</td>\n",
              "      <td>NaN</td>\n",
              "      <td>NaN</td>\n",
              "    </tr>\n",
              "    <tr>\n",
              "      <th>max</th>\n",
              "      <td>74247.000000</td>\n",
              "      <td>350000.000000</td>\n",
              "      <td>NaN</td>\n",
              "      <td>NaN</td>\n",
              "      <td>2770.000000</td>\n",
              "      <td>NaN</td>\n",
              "      <td>40.345193</td>\n",
              "      <td>-2.000000e-08</td>\n",
              "      <td>NaN</td>\n",
              "      <td>1776.000000</td>\n",
              "      <td>NaN</td>\n",
              "      <td>NaN</td>\n",
              "      <td>NaN</td>\n",
              "      <td>99.000000</td>\n",
              "      <td>80.000000</td>\n",
              "      <td>NaN</td>\n",
              "      <td>NaN</td>\n",
              "      <td>30500.000000</td>\n",
              "      <td>NaN</td>\n",
              "      <td>NaN</td>\n",
              "      <td>NaN</td>\n",
              "      <td>NaN</td>\n",
              "      <td>NaN</td>\n",
              "      <td>2013.000000</td>\n",
              "      <td>NaN</td>\n",
              "      <td>NaN</td>\n",
              "      <td>NaN</td>\n",
              "      <td>NaN</td>\n",
              "      <td>NaN</td>\n",
              "      <td>NaN</td>\n",
              "      <td>NaN</td>\n",
              "      <td>NaN</td>\n",
              "      <td>NaN</td>\n",
              "      <td>NaN</td>\n",
              "      <td>NaN</td>\n",
              "      <td>NaN</td>\n",
              "      <td>NaN</td>\n",
              "      <td>NaN</td>\n",
              "      <td>NaN</td>\n",
              "      <td>NaN</td>\n",
              "      <td>NaN</td>\n",
              "    </tr>\n",
              "  </tbody>\n",
              "</table>\n",
              "</div>"
            ],
            "text/plain": [
              "                  ID      TSHAmount  ... WaterPointTypeGroup StatusGroup\n",
              "count   59400.000000   59400.000000  ...               59400       59400\n",
              "unique           NaN            NaN  ...                   6           3\n",
              "top              NaN            NaN  ...  communal standpipe  functional\n",
              "freq             NaN            NaN  ...               34625       32259\n",
              "mean    37115.131768     317.650385  ...                 NaN         NaN\n",
              "std     21453.128371    2997.574558  ...                 NaN         NaN\n",
              "min         0.000000       0.000000  ...                 NaN         NaN\n",
              "25%     18519.750000       0.000000  ...                 NaN         NaN\n",
              "50%     37061.500000       0.000000  ...                 NaN         NaN\n",
              "75%     55656.500000      20.000000  ...                 NaN         NaN\n",
              "max     74247.000000  350000.000000  ...                 NaN         NaN\n",
              "\n",
              "[11 rows x 41 columns]"
            ]
          },
          "metadata": {
            "tags": []
          },
          "execution_count": 45
        }
      ]
    },
    {
      "cell_type": "markdown",
      "metadata": {
        "id": "nix7WHVjqBTF",
        "colab_type": "text"
      },
      "source": [
        "- It appears that `Population`, `ConstructionYear` has some missing values that are written as `0`."
      ]
    },
    {
      "cell_type": "markdown",
      "metadata": {
        "id": "NCbB3pVz06Y7",
        "colab_type": "text"
      },
      "source": [
        "## Visualizations"
      ]
    },
    {
      "cell_type": "code",
      "metadata": {
        "id": "1Bifzzjg1VCH",
        "colab_type": "code",
        "colab": {}
      },
      "source": [
        "def valueCounts(column, DataFrame=TrainData):\n",
        "    \"\"\"\n",
        "    A function to return an output with the count and percentage value of the \n",
        "    distributions.\n",
        "\n",
        "    Argument\n",
        "    ---------\n",
        "    column: Takes in single column from the DataFrame.\n",
        "\n",
        "    Returns\n",
        "    ---------\n",
        "    Count and percentage of the distributions\n",
        "    \"\"\"\n",
        "\n",
        "    plt.title('Number of Status Groups in the Data Set')\n",
        "\n",
        "    for index, value in column.value_counts().items():\n",
        "        print(f'{index}: {value}({round((value/column.shape[0])*100)}%)')\n",
        "    print()\n",
        "\n",
        "    return sns.countplot(x=column, data=DataFrame)"
      ],
      "execution_count": 0,
      "outputs": []
    },
    {
      "cell_type": "code",
      "metadata": {
        "id": "pEwa5qmAlxD4",
        "colab_type": "code",
        "outputId": "189dcbe4-99b7-49b1-c469-0bc0a4a4205d",
        "colab": {
          "base_uri": "https://localhost:8080/",
          "height": 387
        }
      },
      "source": [
        "valueCounts(TrainData['StatusGroup'])"
      ],
      "execution_count": 62,
      "outputs": [
        {
          "output_type": "stream",
          "text": [
            "functional: 32259(54%)\n",
            "non functional: 22824(38%)\n",
            "functional needs repair: 4317(7%)\n",
            "\n"
          ],
          "name": "stdout"
        },
        {
          "output_type": "execute_result",
          "data": {
            "text/plain": [
              "<matplotlib.axes._subplots.AxesSubplot at 0x7f1c7fec4b70>"
            ]
          },
          "metadata": {
            "tags": []
          },
          "execution_count": 62
        },
        {
          "output_type": "display_data",
          "data": {
            "image/png": "[encoded data removed]",
            "text/plain": [
              "<Figure size 432x288 with 1 Axes>"
            ]
          },
          "metadata": {
            "tags": []
          }
        }
      ]
    },
    {
      "cell_type": "markdown",
      "metadata": {
        "id": "9BZ6XU5irT6F",
        "colab_type": "text"
      },
      "source": [
        "- Slightly over half of all the pumps are operational while slightly less than two-fifths have completely broken down & only a handful requires some repair."
      ]
    },
    {
      "cell_type": "code",
      "metadata": {
        "id": "5CBqUMUJ1DGF",
        "colab_type": "code",
        "colab": {
          "base_uri": "https://localhost:8080/",
          "height": 368
        },
        "outputId": "11b4f533-f7d2-45fc-acca-51d856184fcf"
      },
      "source": [
        "valueCounts(TrainData['Permit'])"
      ],
      "execution_count": 63,
      "outputs": [
        {
          "output_type": "stream",
          "text": [
            "True: 38852(65%)\n",
            "False: 17492(29%)\n",
            "\n"
          ],
          "name": "stdout"
        },
        {
          "output_type": "execute_result",
          "data": {
            "text/plain": [
              "<matplotlib.axes._subplots.AxesSubplot at 0x7f1c8038a320>"
            ]
          },
          "metadata": {
            "tags": []
          },
          "execution_count": 63
        },
        {
          "output_type": "display_data",
          "data": {
            "image/png": "[encoded data removed]",
            "text/plain": [
              "<Figure size 432x288 with 1 Axes>"
            ]
          },
          "metadata": {
            "tags": []
          }
        }
      ]
    },
    {
      "cell_type": "code",
      "metadata": {
        "id": "9Bw4tVbt1N4h",
        "colab_type": "code",
        "colab": {
          "base_uri": "https://localhost:8080/",
          "height": 497
        },
        "outputId": "9c671602-285d-4f32-8e51-ca48c887a095"
      },
      "source": [
        "valueCounts(TrainData['Basin'])"
      ],
      "execution_count": 64,
      "outputs": [
        {
          "output_type": "stream",
          "text": [
            "Lake Victoria: 10248(17%)\n",
            "Pangani: 8940(15%)\n",
            "Rufiji: 7976(13%)\n",
            "Internal: 7785(13%)\n",
            "Lake Tanganyika: 6432(11%)\n",
            "Wami / Ruvu: 5987(10%)\n",
            "Lake Nyasa: 5085(9%)\n",
            "Ruvuma / Southern Coast: 4493(8%)\n",
            "Lake Rukwa: 2454(4%)\n",
            "\n"
          ],
          "name": "stdout"
        },
        {
          "output_type": "execute_result",
          "data": {
            "text/plain": [
              "<matplotlib.axes._subplots.AxesSubplot at 0x7f1c803957b8>"
            ]
          },
          "metadata": {
            "tags": []
          },
          "execution_count": 64
        },
        {
          "output_type": "display_data",
          "data": {
            "image/png": "[encoded data removed]",
            "text/plain": [
              "<Figure size 432x288 with 1 Axes>"
            ]
          },
          "metadata": {
            "tags": []
          }
        }
      ]
    },
    {
      "cell_type": "code",
      "metadata": {
        "id": "Qj_jkjH_4Gwi",
        "colab_type": "code",
        "colab": {
          "base_uri": "https://localhost:8080/",
          "height": 717
        },
        "outputId": "b2743a6f-0488-4c07-fbe1-690b7f459cb1"
      },
      "source": [
        "valueCounts(TrainData['Region'])"
      ],
      "execution_count": 65,
      "outputs": [
        {
          "output_type": "stream",
          "text": [
            "Iringa: 5294(9%)\n",
            "Shinyanga: 4982(8%)\n",
            "Mbeya: 4639(8%)\n",
            "Kilimanjaro: 4379(7%)\n",
            "Morogoro: 4006(7%)\n",
            "Arusha: 3350(6%)\n",
            "Kagera: 3316(6%)\n",
            "Mwanza: 3102(5%)\n",
            "Kigoma: 2816(5%)\n",
            "Ruvuma: 2640(4%)\n",
            "Pwani: 2635(4%)\n",
            "Tanga: 2547(4%)\n",
            "Dodoma: 2201(4%)\n",
            "Singida: 2093(4%)\n",
            "Mara: 1969(3%)\n",
            "Tabora: 1959(3%)\n",
            "Rukwa: 1808(3%)\n",
            "Mtwara: 1730(3%)\n",
            "Manyara: 1583(3%)\n",
            "Lindi: 1546(3%)\n",
            "Dar es Salaam: 805(1%)\n",
            "\n"
          ],
          "name": "stdout"
        },
        {
          "output_type": "execute_result",
          "data": {
            "text/plain": [
              "<matplotlib.axes._subplots.AxesSubplot at 0x7f1c807d21d0>"
            ]
          },
          "metadata": {
            "tags": []
          },
          "execution_count": 65
        },
        {
          "output_type": "display_data",
          "data": {
            "image/png": "[encoded data removed]",
            "text/plain": [
              "<Figure size 432x288 with 1 Axes>"
            ]
          },
          "metadata": {
            "tags": []
          }
        }
      ]
    },
    {
      "cell_type": "code",
      "metadata": {
        "id": "NVNyII_g4cxS",
        "colab_type": "code",
        "colab": {
          "base_uri": "https://localhost:8080/",
          "height": 460
        },
        "outputId": "8b3a28ce-95f8-4f77-ec7b-a3794cbdf281"
      },
      "source": [
        "valueCounts(TrainData['ExtractionTypeClass'])"
      ],
      "execution_count": 66,
      "outputs": [
        {
          "output_type": "stream",
          "text": [
            "gravity: 26780(45%)\n",
            "handpump: 16456(28%)\n",
            "other: 6430(11%)\n",
            "submersible: 6179(10%)\n",
            "motorpump: 2987(5%)\n",
            "rope pump: 451(1%)\n",
            "wind-powered: 117(0%)\n",
            "\n"
          ],
          "name": "stdout"
        },
        {
          "output_type": "execute_result",
          "data": {
            "text/plain": [
              "<matplotlib.axes._subplots.AxesSubplot at 0x7f1c7fde0860>"
            ]
          },
          "metadata": {
            "tags": []
          },
          "execution_count": 66
        },
        {
          "output_type": "display_data",
          "data": {
            "image/png": "[encoded data removed]",
            "text/plain": [
              "<Figure size 432x288 with 1 Axes>"
            ]
          },
          "metadata": {
            "tags": []
          }
        }
      ]
    },
    {
      "cell_type": "code",
      "metadata": {
        "id": "4wSC2K-04p6v",
        "colab_type": "code",
        "colab": {
          "base_uri": "https://localhost:8080/",
          "height": 424
        },
        "outputId": "f017bfca-cbbb-4116-a0df-907b4cc0a008"
      },
      "source": [
        "valueCounts(TrainData['ManagementGroup'])"
      ],
      "execution_count": 67,
      "outputs": [
        {
          "output_type": "stream",
          "text": [
            "user-group: 52490(88%)\n",
            "commercial: 3638(6%)\n",
            "parastatal: 1768(3%)\n",
            "other: 943(2%)\n",
            "unknown: 561(1%)\n",
            "\n"
          ],
          "name": "stdout"
        },
        {
          "output_type": "execute_result",
          "data": {
            "text/plain": [
              "<matplotlib.axes._subplots.AxesSubplot at 0x7f1c808272b0>"
            ]
          },
          "metadata": {
            "tags": []
          },
          "execution_count": 67
        },
        {
          "output_type": "display_data",
          "data": {
            "image/png": "[encoded data removed]",
            "text/plain": [
              "<Figure size 432x288 with 1 Axes>"
            ]
          },
          "metadata": {
            "tags": []
          }
        }
      ]
    },
    {
      "cell_type": "code",
      "metadata": {
        "id": "1lbsB8em45_P",
        "colab_type": "code",
        "colab": {
          "base_uri": "https://localhost:8080/",
          "height": 460
        },
        "outputId": "fc3b60d8-5ef4-4fc4-e546-e78862a12f01"
      },
      "source": [
        "valueCounts(TrainData['Payment'])"
      ],
      "execution_count": 68,
      "outputs": [
        {
          "output_type": "stream",
          "text": [
            "never pay: 25348(43%)\n",
            "pay per bucket: 8985(15%)\n",
            "pay monthly: 8300(14%)\n",
            "unknown: 8157(14%)\n",
            "pay when scheme fails: 3914(7%)\n",
            "pay annually: 3642(6%)\n",
            "other: 1054(2%)\n",
            "\n"
          ],
          "name": "stdout"
        },
        {
          "output_type": "execute_result",
          "data": {
            "text/plain": [
              "<matplotlib.axes._subplots.AxesSubplot at 0x7f1c7fe5d940>"
            ]
          },
          "metadata": {
            "tags": []
          },
          "execution_count": 68
        },
        {
          "output_type": "display_data",
          "data": {
            "image/png": "[encoded data removed]",
            "text/plain": [
              "<Figure size 432x288 with 1 Axes>"
            ]
          },
          "metadata": {
            "tags": []
          }
        }
      ]
    },
    {
      "cell_type": "code",
      "metadata": {
        "id": "iaaOcozA5IrR",
        "colab_type": "code",
        "colab": {
          "base_uri": "https://localhost:8080/",
          "height": 479
        },
        "outputId": "4d8af585-a482-400e-cbe8-0cfeb474f068"
      },
      "source": [
        "valueCounts(TrainData['WaterQuality'])"
      ],
      "execution_count": 69,
      "outputs": [
        {
          "output_type": "stream",
          "text": [
            "soft: 50818(86%)\n",
            "salty: 4856(8%)\n",
            "unknown: 1876(3%)\n",
            "milky: 804(1%)\n",
            "coloured: 490(1%)\n",
            "salty abandoned: 339(1%)\n",
            "fluoride: 200(0%)\n",
            "fluoride abandoned: 17(0%)\n",
            "\n"
          ],
          "name": "stdout"
        },
        {
          "output_type": "execute_result",
          "data": {
            "text/plain": [
              "<matplotlib.axes._subplots.AxesSubplot at 0x7f1c8005a898>"
            ]
          },
          "metadata": {
            "tags": []
          },
          "execution_count": 69
        },
        {
          "output_type": "display_data",
          "data": {
            "image/png": "[encoded data removed]",
            "text/plain": [
              "<Figure size 432x288 with 1 Axes>"
            ]
          },
          "metadata": {
            "tags": []
          }
        }
      ]
    },
    {
      "cell_type": "code",
      "metadata": {
        "id": "t-0PdvTq5nrb",
        "colab_type": "code",
        "colab": {
          "base_uri": "https://localhost:8080/",
          "height": 424
        },
        "outputId": "58304bc7-f02b-4880-ed78-ca189add8c32"
      },
      "source": [
        "valueCounts(TrainData['Quantity'])"
      ],
      "execution_count": 70,
      "outputs": [
        {
          "output_type": "stream",
          "text": [
            "enough: 33186(56%)\n",
            "insufficient: 15129(25%)\n",
            "dry: 6246(11%)\n",
            "seasonal: 4050(7%)\n",
            "unknown: 789(1%)\n",
            "\n"
          ],
          "name": "stdout"
        },
        {
          "output_type": "execute_result",
          "data": {
            "text/plain": [
              "<matplotlib.axes._subplots.AxesSubplot at 0x7f1c7ffcfd68>"
            ]
          },
          "metadata": {
            "tags": []
          },
          "execution_count": 70
        },
        {
          "output_type": "display_data",
          "data": {
            "image/png": "[encoded data removed]",
            "text/plain": [
              "<Figure size 432x288 with 1 Axes>"
            ]
          },
          "metadata": {
            "tags": []
          }
        }
      ]
    },
    {
      "cell_type": "code",
      "metadata": {
        "id": "TqN1wrim53c6",
        "colab_type": "code",
        "colab": {
          "base_uri": "https://localhost:8080/",
          "height": 515
        },
        "outputId": "45698426-5adb-4fd0-eb6d-6e0d853c5666"
      },
      "source": [
        "valueCounts(TrainData['Source'])"
      ],
      "execution_count": 71,
      "outputs": [
        {
          "output_type": "stream",
          "text": [
            "spring: 17021(29%)\n",
            "shallow well: 16824(28%)\n",
            "machine dbh: 11075(19%)\n",
            "river: 9612(16%)\n",
            "rainwater harvesting: 2295(4%)\n",
            "hand dtw: 874(1%)\n",
            "lake: 765(1%)\n",
            "dam: 656(1%)\n",
            "other: 212(0%)\n",
            "unknown: 66(0%)\n",
            "\n"
          ],
          "name": "stdout"
        },
        {
          "output_type": "execute_result",
          "data": {
            "text/plain": [
              "<matplotlib.axes._subplots.AxesSubplot at 0x7f1c7fef6c50>"
            ]
          },
          "metadata": {
            "tags": []
          },
          "execution_count": 71
        },
        {
          "output_type": "display_data",
          "data": {
            "image/png": "[encoded data removed]",
            "text/plain": [
              "<Figure size 432x288 with 1 Axes>"
            ]
          },
          "metadata": {
            "tags": []
          }
        }
      ]
    },
    {
      "cell_type": "code",
      "metadata": {
        "id": "Xpk1RwgE6Dq-",
        "colab_type": "code",
        "colab": {}
      },
      "source": [
        ""
      ],
      "execution_count": 0,
      "outputs": []
    }
  ]
}