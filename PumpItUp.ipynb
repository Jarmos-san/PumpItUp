{
  "nbformat": 4,
  "nbformat_minor": 0,
  "metadata": {
    "colab": {
      "name": "PumpItUp.ipynb",
      "provenance": [],
      "collapsed_sections": [],
      "include_colab_link": true
    },
    "kernelspec": {
      "name": "python3",
      "display_name": "Python 3"
    }
  },
  "cells": [
    {
      "cell_type": "markdown",
      "metadata": {
        "id": "view-in-github",
        "colab_type": "text"
      },
      "source": [
        "<a href=\"https://colab.research.google.com/github/Jarmos-san/PumpItUp/blob/master/PumpItUp.ipynb\" target=\"_parent\"><img src=\"https://colab.research.google.com/assets/colab-badge.svg\" alt=\"Open In Colab\"/></a>"
      ]
    },
    {
      "cell_type": "markdown",
      "metadata": {
        "id": "iQn50ULAn4Dv",
        "colab_type": "text"
      },
      "source": [
        "# [DrivenData Competition | Pump it Up: Data Mining the Water Table](https://www.drivendata.org/competitions/7/pump-it-up-data-mining-the-water-table/page/23/)\n",
        "\n",
        "Goal - ***To predict the operating condition of a waterpoint for each record in the dataset.***\n",
        "\n",
        "[Discussion Forums](https://community.drivendata.org/c/pump-it-up-data-mining-the-water-table)\n",
        "\n",
        "---\n",
        "\n",
        "Problem Description has 3 sections:\n",
        "\n",
        "- Features\n",
        "- Labels\n",
        "- Submission Format\n",
        "\n",
        "## Features:\n",
        "\n",
        "- `amount_tsh` - **Total static head (amount water available to waterpoint)**\n",
        "- `date_recorded` - **The date the row was entered**\n",
        "- `funder` - **Who funded the well**\n",
        "- `gps_height` - **Altitude of the well**\n",
        "- `installer` - **Organization that installed the well**\n",
        "- `longitude` - **GPS coordinate**\n",
        "- `latitude` - **GPS coordinate**\n",
        "- `wpt_name` - **Name of the waterpoint if there is one**\n",
        "- `num_private` -\n",
        "- `basin` - **Geographic water basin**\n",
        "- `subvillage` - **Geographic location**\n",
        "- `region` - **Geographic location**\n",
        "- `region_code` - **Geographic location (coded)**\n",
        "- `district_code` - **Geographic location (coded)**\n",
        "- `lga` - **Geographic location**\n",
        "- `ward` - **Geographic location**\n",
        "- `population` - **Population around the well**\n",
        "- `public_meeting` - **True/False**\n",
        "- `recorded_by` - **Group entering this row of data**\n",
        "- `scheme_management` - **Who operates the waterpoint**\n",
        "- `scheme_name` - **Who operates the waterpoint**\n",
        "- `permit` - **If the waterpoint is permitted**\n",
        "- `construction_year` - **Year the waterpoint was constructed**\n",
        "- `extraction_type` - **The kind of extraction the waterpoint uses**\n",
        "- `extraction_type_group` - **The kind of extraction the waterpoint uses**\n",
        "- `extraction_type_class` - **The kind of extraction the waterpoint uses**\n",
        "- `management` - **How the waterpoint is managed**\n",
        "- `management_group` - **How the waterpoint is managed**\n",
        "- `payment` - **What the water costs**\n",
        "- `payment_type` - **What the water costs**\n",
        "- `water_quality` - **The quality of the water**\n",
        "- `quality_group` - **The quality of the water**\n",
        "- `quantity` - **The quantity of water**\n",
        "- `quantity_group` - **The quantity of water**\n",
        "- `source` - **The source of the water**\n",
        "- `source_type` - **The source of the water**\n",
        "- `source_class` - **The source of the water**\n",
        "- `waterpoint_type` - **The kind of waterpoint**\n",
        "- `waterpoint_type_group` - **The kind of waterpoint**\n",
        "\n",
        "## Labels:\n",
        "\n",
        "- `functional` - **the waterpoint is operational and there are no repairs needed**\n",
        "- `functional needs repair` - **the waterpoint is operational, but needs repairs**\n",
        "- `non functional` - **the waterpoint is not operational**\n",
        "\n",
        "## Submission Format:\n",
        "\n",
        "id \t  | status_group |\n",
        "------|--------------|\n",
        "50785 |\tfunctional   |\n",
        "51630 |\tfunctional   |\n",
        "17168 |\tfunctional   |\n",
        "45559 |\tfunctional   |\n",
        "49871 |\tfunctional   |\n",
        "\n",
        "## Data Download:\n",
        "\n",
        "File \t                                                                                                            | Description                                       |\n",
        "------------------------------------------------------------------------------------------------------------------|---------------------------------------------------|\n",
        "[Submission format](https://s3.amazonaws.com/drivendata/data/7/public/SubmissionFormat.csv)                       |\tThe format for submitting your predictions        |\n",
        "[Test Set Values](https://s3.amazonaws.com/drivendata/data/7/public/702ddfc5-68cd-4d1d-a0de-f5f566f76d91.csv)     |\tThe independent variables that need predictions   |\n",
        "[Training Set Labels](https://s3.amazonaws.com/drivendata/data/7/public/0bf8bc6e-30d0-4c50-956a-603fc693d966.csv) |\tThe dependent variable (status_group) for each of the rows in Training set values   |\n",
        "[Training Set Values](https://s3.amazonaws.com/drivendata/data/7/public/4910797b-ee55-40a7-8668-10efd5c1b960.csv) | The independent variables for the training set    |"
      ]
    },
    {
      "cell_type": "code",
      "metadata": {
        "id": "Db6IdXgf1ga1",
        "colab_type": "code",
        "outputId": "be53a7bd-9999-48e2-dc16-81065c13669a",
        "colab": {
          "base_uri": "https://localhost:8080/",
          "height": 35
        }
      },
      "source": [
        "# Loading Pandas 0.25.3 into the system along with the required files\n",
        "import pandas as pd\n",
        "\n",
        "# Checking the version for easier debugging at some point of time.\n",
        "pd.__version__"
      ],
      "execution_count": 6,
      "outputs": [
        {
          "output_type": "execute_result",
          "data": {
            "text/plain": [
              "'0.25.3'"
            ]
          },
          "metadata": {
            "tags": []
          },
          "execution_count": 6
        }
      ]
    },
    {
      "cell_type": "code",
      "metadata": {
        "id": "O0XeMqdH6F7b",
        "colab_type": "code",
        "colab": {}
      },
      "source": [
        "# Load .csv file directly from the provided links\n",
        "SubmissionFormat = pd.read_csv('https://s3.amazonaws.com/drivendata/data/7/public/SubmissionFormat.csv')\n",
        "TestSet = pd.read_csv('https://s3.amazonaws.com/drivendata/data/7/public/702ddfc5-68cd-4d1d-a0de-f5f566f76d91.csv')\n",
        "TrainLabels = pd.read_csv('https://s3.amazonaws.com/drivendata/data/7/public/0bf8bc6e-30d0-4c50-956a-603fc693d966.csv')\n",
        "TrainSet = pd.read_csv('https://s3.amazonaws.com/drivendata/data/7/public/4910797b-ee55-40a7-8668-10efd5c1b960.csv')"
      ],
      "execution_count": 0,
      "outputs": []
    },
    {
      "cell_type": "code",
      "metadata": {
        "id": "CbaNOK3NNouz",
        "colab_type": "code",
        "colab": {
          "base_uri": "https://localhost:8080/",
          "height": 54
        },
        "outputId": "488a0180-779f-48d9-d159-8b003736a8dd"
      },
      "source": [
        "print(f'Size of Labels set: {TrainLabels.shape}')\n",
        "print(f'Size of Labels set: {TrainSet.shape}')"
      ],
      "execution_count": 14,
      "outputs": [
        {
          "output_type": "stream",
          "text": [
            "Size of Labels set: (59400, 2)\n",
            "Size of Labels set: (59400, 40)\n"
          ],
          "name": "stdout"
        }
      ]
    },
    {
      "cell_type": "code",
      "metadata": {
        "id": "YRs_YR78OeTw",
        "colab_type": "code",
        "colab": {}
      },
      "source": [
        "TrainSet"
      ],
      "execution_count": 0,
      "outputs": []
    },
    {
      "cell_type": "markdown",
      "metadata": {
        "id": "cH_A2xlq8_kq",
        "colab_type": "text"
      },
      "source": [
        "# Rough Overview\n",
        "\n",
        "- Trainning Set contains ~60k variables.\n",
        "- The `status_group` variable in the `labels.csv` needs to be formatted properly for more readability.\n",
        "- The rest of the other independent variables in the Training Set require reformatting as well.\n",
        "- `labels.csv` needs to be appended to the Training Set in context to the proper ID numbers.\n",
        "\n",
        "- Read more on dataframe manipulation and i"
      ]
    },
    {
      "cell_type": "code",
      "metadata": {
        "id": "ckn_IVHeSCNq",
        "colab_type": "code",
        "colab": {}
      },
      "source": [
        "# Testing"
      ],
      "execution_count": 0,
      "outputs": []
    }
  ]
}