{
  "nbformat": 4,
  "nbformat_minor": 0,
  "metadata": {
    "colab": {
      "name": "DataCleaning.ipynb",
      "provenance": [],
      "authorship_tag": "ABX9TyOJHAdwSe92vo08gBWZ4TGE",
      "include_colab_link": true
    },
    "kernelspec": {
      "name": "python3",
      "display_name": "Python 3"
    }
  },
  "cells": [
    {
      "cell_type": "markdown",
      "metadata": {
        "id": "view-in-github",
        "colab_type": "text"
      },
      "source": [
        "<a href=\"https://colab.research.google.com/github/Jarmos-san/PumpItUp/blob/master/DataCleaning.ipynb\" target=\"_parent\"><img src=\"https://colab.research.google.com/assets/colab-badge.svg\" alt=\"Open In Colab\"/></a>"
      ]
    },
    {
      "cell_type": "markdown",
      "metadata": {
        "id": "q8QhB5Uwkh3f",
        "colab_type": "text"
      },
      "source": [
        "# Import Necessary Libraries"
      ]
    },
    {
      "cell_type": "code",
      "metadata": {
        "id": "2CoTqvDa1k90",
        "colab_type": "code",
        "outputId": "25b5c757-a300-4cd8-882e-81352dfed7ea",
        "colab": {
          "base_uri": "https://localhost:8080/",
          "height": 147
        }
      },
      "source": [
        "import os\n",
        "import pandas as pd\n",
        "\n",
        "from google.colab import drive\n",
        "drive.mount('/content/gdrive')\n",
        "\n",
        "%cd /content/gdrive/My Drive"
      ],
      "execution_count": 5,
      "outputs": [
        {
          "output_type": "stream",
          "text": [
            "Go to this URL in a browser: https://accounts.google.com/o/oauth2/auth?client_id=947318989803-6bn6qk8qdgf4n4g3pfee6491hc0brc4i.apps.googleusercontent.com&redirect_uri=urn%3aietf%3awg%3aoauth%3a2.0%3aoob&response_type=code&scope=email%20https%3a%2f%2fwww.googleapis.com%2fauth%2fdocs.test%20https%3a%2f%2fwww.googleapis.com%2fauth%2fdrive%20https%3a%2f%2fwww.googleapis.com%2fauth%2fdrive.photos.readonly%20https%3a%2f%2fwww.googleapis.com%2fauth%2fpeopleapi.readonly\n",
            "\n",
            "Enter your authorization code:\n",
            "··········\n",
            "Mounted at /content/gdrive\n",
            "/content/gdrive/My Drive\n"
          ],
          "name": "stdout"
        }
      ]
    },
    {
      "cell_type": "markdown",
      "metadata": {
        "id": "KRPiVvrU7ywn",
        "colab_type": "text"
      },
      "source": [
        "# Creating the DataFrame"
      ]
    },
    {
      "cell_type": "code",
      "metadata": {
        "id": "l5OLMvYck1Wa",
        "colab_type": "code",
        "colab": {}
      },
      "source": [
        "SITE = 'https://s3.amazonaws.com/drivendata/data/7/public/'\n",
        "\n",
        "# Load .csv file directly from the provided links\n",
        "SubmissionFormat = pd.read_csv(f'{PATH}SubmissionFormat.csv')\n",
        "TestSet = pd.read_csv(f'{PATH}702ddfc5-68cd-4d1d-a0de-f5f566f76d91.csv', parse_dates=['date_recorded'])\n",
        "TrainLabels = pd.read_csv(f'{PATH}0bf8bc6e-30d0-4c50-956a-603fc693d966.csv')\n",
        "TrainSet = pd.read_csv(f'{PATH}4910797b-ee55-40a7-8668-10efd5c1b960.csv', parse_dates=['date_recorded'])\n",
        "\n",
        "# Make a copy of the original files for processing\n",
        "TrainData = TrainSet.copy()\n",
        "TestData = TestSet.copy()"
      ],
      "execution_count": 0,
      "outputs": []
    },
    {
      "cell_type": "markdown",
      "metadata": {
        "id": "BPBgiFnb76XC",
        "colab_type": "text"
      },
      "source": [
        "# Renaming the Columns"
      ]
    },
    {
      "cell_type": "code",
      "metadata": {
        "id": "o-hCMhZslGv6",
        "colab_type": "code",
        "colab": {
          "base_uri": "https://localhost:8080/",
          "height": 135
        },
        "outputId": "9f65cb88-ee66-4a24-be88-65ed3ab6e279"
      },
      "source": [
        "# Merging the Labels and Training set into a single Dataframe as well renaming the Column names properly.\n",
        "TrainData = TrainData.merge(TrainLabels, on='id')\n",
        "TrainingRenamedColumns = ['ID', 'TSHAmount', 'DateRecorded', 'Funder', 'GPSHeight', 'Installer', 'Longitutde',\n",
        "              'Latitude', 'WaterPointName', 'PrivateNum', 'Basin', 'SubVillage', 'Region', 'RegionCode',\n",
        "              'DistrictCode', 'LocalGovernmentArea', 'Ward', 'Population', 'PublicMeeting', 'RecordedBy',\n",
        "              'SchemeManagement', 'SchemeName', 'Permit', 'ConstructionYear', 'ExtractionType', \n",
        "              'ExtractionTypeGroup', 'ExtractionTypeClass', 'Management', 'ManagementGroup', 'Payment', \n",
        "              'PaymentType', 'WaterQuality', 'QualityGroup', 'Quantity', 'QuantityGroup', 'Source', \n",
        "              'SourceType', 'SourceClass', 'WaterPointType', 'WaterPointTypeGroup', 'StatusGroup']\n",
        "TrainData.set_axis(TrainingRenamedColumns, axis='columns', inplace=True)\n",
        "TrainData.sample(1)"
      ],
      "execution_count": 34,
      "outputs": [
        {
          "output_type": "execute_result",
          "data": {
            "text/html": [
              "<div>\n",
              "<style scoped>\n",
              "    .dataframe tbody tr th:only-of-type {\n",
              "        vertical-align: middle;\n",
              "    }\n",
              "\n",
              "    .dataframe tbody tr th {\n",
              "        vertical-align: top;\n",
              "    }\n",
              "\n",
              "    .dataframe thead th {\n",
              "        text-align: right;\n",
              "    }\n",
              "</style>\n",
              "<table border=\"1\" class=\"dataframe\">\n",
              "  <thead>\n",
              "    <tr style=\"text-align: right;\">\n",
              "      <th></th>\n",
              "      <th>ID</th>\n",
              "      <th>TSHAmount</th>\n",
              "      <th>DateRecorded</th>\n",
              "      <th>Funder</th>\n",
              "      <th>GPSHeight</th>\n",
              "      <th>Installer</th>\n",
              "      <th>Longitutde</th>\n",
              "      <th>Latitude</th>\n",
              "      <th>WaterPointName</th>\n",
              "      <th>PrivateNum</th>\n",
              "      <th>Basin</th>\n",
              "      <th>SubVillage</th>\n",
              "      <th>Region</th>\n",
              "      <th>RegionCode</th>\n",
              "      <th>DistrictCode</th>\n",
              "      <th>LocalGovernmentArea</th>\n",
              "      <th>Ward</th>\n",
              "      <th>Population</th>\n",
              "      <th>PublicMeeting</th>\n",
              "      <th>RecordedBy</th>\n",
              "      <th>SchemeManagement</th>\n",
              "      <th>SchemeName</th>\n",
              "      <th>Permit</th>\n",
              "      <th>ConstructionYear</th>\n",
              "      <th>ExtractionType</th>\n",
              "      <th>ExtractionTypeGroup</th>\n",
              "      <th>ExtractionTypeClass</th>\n",
              "      <th>Management</th>\n",
              "      <th>ManagementGroup</th>\n",
              "      <th>Payment</th>\n",
              "      <th>PaymentType</th>\n",
              "      <th>WaterQuality</th>\n",
              "      <th>QualityGroup</th>\n",
              "      <th>Quantity</th>\n",
              "      <th>QuantityGroup</th>\n",
              "      <th>Source</th>\n",
              "      <th>SourceType</th>\n",
              "      <th>SourceClass</th>\n",
              "      <th>WaterPointType</th>\n",
              "      <th>WaterPointTypeGroup</th>\n",
              "      <th>StatusGroup</th>\n",
              "    </tr>\n",
              "  </thead>\n",
              "  <tbody>\n",
              "    <tr>\n",
              "      <th>2989</th>\n",
              "      <td>59205</td>\n",
              "      <td>1000.0</td>\n",
              "      <td>2011-03-15</td>\n",
              "      <td>Rc Church</td>\n",
              "      <td>2154</td>\n",
              "      <td>RC CHURCH</td>\n",
              "      <td>34.540274</td>\n",
              "      <td>-9.321093</td>\n",
              "      <td>Ofisi Ya Kijiji Igosi</td>\n",
              "      <td>0</td>\n",
              "      <td>Lake Nyasa</td>\n",
              "      <td>Kibaoni</td>\n",
              "      <td>Iringa</td>\n",
              "      <td>11</td>\n",
              "      <td>4</td>\n",
              "      <td>Njombe</td>\n",
              "      <td>Igosi</td>\n",
              "      <td>80</td>\n",
              "      <td>True</td>\n",
              "      <td>GeoData Consultants Ltd</td>\n",
              "      <td>VWC</td>\n",
              "      <td>MAKOGA</td>\n",
              "      <td>False</td>\n",
              "      <td>2000</td>\n",
              "      <td>gravity</td>\n",
              "      <td>gravity</td>\n",
              "      <td>gravity</td>\n",
              "      <td>vwc</td>\n",
              "      <td>user-group</td>\n",
              "      <td>pay annually</td>\n",
              "      <td>annually</td>\n",
              "      <td>soft</td>\n",
              "      <td>good</td>\n",
              "      <td>insufficient</td>\n",
              "      <td>insufficient</td>\n",
              "      <td>spring</td>\n",
              "      <td>spring</td>\n",
              "      <td>groundwater</td>\n",
              "      <td>communal standpipe</td>\n",
              "      <td>communal standpipe</td>\n",
              "      <td>functional</td>\n",
              "    </tr>\n",
              "  </tbody>\n",
              "</table>\n",
              "</div>"
            ],
            "text/plain": [
              "         ID  TSHAmount  ... WaterPointTypeGroup StatusGroup\n",
              "2989  59205     1000.0  ...  communal standpipe  functional\n",
              "\n",
              "[1 rows x 41 columns]"
            ]
          },
          "metadata": {
            "tags": []
          },
          "execution_count": 34
        }
      ]
    },
    {
      "cell_type": "code",
      "metadata": {
        "id": "0Vufo4Esn2jd",
        "colab_type": "code",
        "colab": {
          "base_uri": "https://localhost:8080/",
          "height": 153
        },
        "outputId": "b91f19f8-2664-4526-f7ed-efe30a9a49f6"
      },
      "source": [
        "# Renaming the columns for the Test set\n",
        "TestRenamedColumns = ['ID', 'TSHAmount', 'DateRecorded', 'Funder', 'GPSHeight',\n",
        "       'Installer', 'Longitude', 'Latitude', 'WaterPointName', 'PrivateNum',\n",
        "       'Basin', 'SubVillage', 'Region', 'RegionCode', 'DistrictCode', 'LocalGovernmentArea', \n",
        "       'Ward', 'Population', 'PublicMeeting', 'RecordedBy', 'SchemeManagement', \n",
        "       'SchemeName', 'Permit', 'ConstructionYear', 'ExtractionType', 'ExtractionTypeGroup', \n",
        "       'ExtractionTypeClass', 'Management', 'ManagementGroup', 'Payment', 'PaymentType', \n",
        "       'WaterQuality', 'QualityGroup', 'Quantity', 'QuantityGroup', 'Source', \n",
        "       'SourceType', 'SourceClass', 'WaterPointType', 'WaterPointTypeGroup']\n",
        "TestData.set_axis(TestRenamedColumns, axis=1, inplace=True)\n",
        "TestData.sample(1)"
      ],
      "execution_count": 35,
      "outputs": [
        {
          "output_type": "execute_result",
          "data": {
            "text/html": [
              "<div>\n",
              "<style scoped>\n",
              "    .dataframe tbody tr th:only-of-type {\n",
              "        vertical-align: middle;\n",
              "    }\n",
              "\n",
              "    .dataframe tbody tr th {\n",
              "        vertical-align: top;\n",
              "    }\n",
              "\n",
              "    .dataframe thead th {\n",
              "        text-align: right;\n",
              "    }\n",
              "</style>\n",
              "<table border=\"1\" class=\"dataframe\">\n",
              "  <thead>\n",
              "    <tr style=\"text-align: right;\">\n",
              "      <th></th>\n",
              "      <th>ID</th>\n",
              "      <th>TSHAmount</th>\n",
              "      <th>DateRecorded</th>\n",
              "      <th>Funder</th>\n",
              "      <th>GPSHeight</th>\n",
              "      <th>Installer</th>\n",
              "      <th>Longitude</th>\n",
              "      <th>Latitude</th>\n",
              "      <th>WaterPointName</th>\n",
              "      <th>PrivateNum</th>\n",
              "      <th>Basin</th>\n",
              "      <th>SubVillage</th>\n",
              "      <th>Region</th>\n",
              "      <th>RegionCode</th>\n",
              "      <th>DistrictCode</th>\n",
              "      <th>LocalGovernmentArea</th>\n",
              "      <th>Ward</th>\n",
              "      <th>Population</th>\n",
              "      <th>PublicMeeting</th>\n",
              "      <th>RecordedBy</th>\n",
              "      <th>SchemeManagement</th>\n",
              "      <th>SchemeName</th>\n",
              "      <th>Permit</th>\n",
              "      <th>ConstructionYear</th>\n",
              "      <th>ExtractionType</th>\n",
              "      <th>ExtractionTypeGroup</th>\n",
              "      <th>ExtractionTypeClass</th>\n",
              "      <th>Management</th>\n",
              "      <th>ManagementGroup</th>\n",
              "      <th>Payment</th>\n",
              "      <th>PaymentType</th>\n",
              "      <th>WaterQuality</th>\n",
              "      <th>QualityGroup</th>\n",
              "      <th>Quantity</th>\n",
              "      <th>QuantityGroup</th>\n",
              "      <th>Source</th>\n",
              "      <th>SourceType</th>\n",
              "      <th>SourceClass</th>\n",
              "      <th>WaterPointType</th>\n",
              "      <th>WaterPointTypeGroup</th>\n",
              "    </tr>\n",
              "  </thead>\n",
              "  <tbody>\n",
              "    <tr>\n",
              "      <th>1414</th>\n",
              "      <td>39354</td>\n",
              "      <td>100.0</td>\n",
              "      <td>2013-01-15</td>\n",
              "      <td>Jica</td>\n",
              "      <td>406</td>\n",
              "      <td>JICA</td>\n",
              "      <td>38.804242</td>\n",
              "      <td>-10.297096</td>\n",
              "      <td>Kwa Binti Said</td>\n",
              "      <td>0</td>\n",
              "      <td>Ruvuma / Southern Coast</td>\n",
              "      <td>Chiminula A</td>\n",
              "      <td>Lindi</td>\n",
              "      <td>8</td>\n",
              "      <td>3</td>\n",
              "      <td>Nachingwea</td>\n",
              "      <td>Mpiruka</td>\n",
              "      <td>450</td>\n",
              "      <td>True</td>\n",
              "      <td>GeoData Consultants Ltd</td>\n",
              "      <td>VWC</td>\n",
              "      <td>NaN</td>\n",
              "      <td>True</td>\n",
              "      <td>2006</td>\n",
              "      <td>india mark ii</td>\n",
              "      <td>india mark ii</td>\n",
              "      <td>handpump</td>\n",
              "      <td>vwc</td>\n",
              "      <td>user-group</td>\n",
              "      <td>pay per bucket</td>\n",
              "      <td>per bucket</td>\n",
              "      <td>salty</td>\n",
              "      <td>salty</td>\n",
              "      <td>enough</td>\n",
              "      <td>enough</td>\n",
              "      <td>machine dbh</td>\n",
              "      <td>borehole</td>\n",
              "      <td>groundwater</td>\n",
              "      <td>hand pump</td>\n",
              "      <td>hand pump</td>\n",
              "    </tr>\n",
              "  </tbody>\n",
              "</table>\n",
              "</div>"
            ],
            "text/plain": [
              "         ID  TSHAmount  ... WaterPointType WaterPointTypeGroup\n",
              "1414  39354      100.0  ...      hand pump           hand pump\n",
              "\n",
              "[1 rows x 40 columns]"
            ]
          },
          "metadata": {
            "tags": []
          },
          "execution_count": 35
        }
      ]
    },
    {
      "cell_type": "markdown",
      "metadata": {
        "id": "ym2T5C2h8BU_",
        "colab_type": "text"
      },
      "source": [
        "# Saving The `.csv` Files to GDrive"
      ]
    },
    {
      "cell_type": "code",
      "metadata": {
        "id": "h4e8RdQ0FBtl",
        "colab_type": "code",
        "colab": {}
      },
      "source": [
        "# Filepath to the directory for the data sets\n",
        "FilePath = '/content/gdrive/My Drive/PumpItUp/data/'\n",
        "\n",
        "# Saving dataframes as .csv files to GDrive\n",
        "TrainData.to_csv(f'{FilePath}TrainData', index=False)\n",
        "TestData.to_csv(f'{FilePath}TestData', index=False)"
      ],
      "execution_count": 0,
      "outputs": []
    }
  ]
}