{
  "nbformat": 4,
  "nbformat_minor": 0,
  "metadata": {
    "colab": {
      "name": "DataCleaning.ipynb",
      "provenance": [],
      "authorship_tag": "ABX9TyMC2KZ15xDUKAJ4e1nSljwy",
      "include_colab_link": true
    },
    "kernelspec": {
      "name": "python3",
      "display_name": "Python 3"
    }
  },
  "cells": [
    {
      "cell_type": "markdown",
      "metadata": {
        "id": "view-in-github",
        "colab_type": "text"
      },
      "source": [
        "<a href=\"https://colab.research.google.com/github/Jarmos-san/PumpItUp/blob/master/DataCleaning.ipynb\" target=\"_parent\"><img src=\"https://colab.research.google.com/assets/colab-badge.svg\" alt=\"Open In Colab\"/></a>"
      ]
    },
    {
      "cell_type": "code",
      "metadata": {
        "id": "kBCB2-nfw5wx",
        "colab_type": "code",
        "colab": {
          "base_uri": "https://localhost:8080/",
          "height": 54
        },
        "outputId": "492627bd-e078-479a-e077-223830936505"
      },
      "source": [
        "from google.colab import drive\n",
        "drive.mount('/content/gdrive')\n",
        "\n",
        "%cd /content/gdrive/My Drive"
      ],
      "execution_count": 22,
      "outputs": [
        {
          "output_type": "stream",
          "text": [
            "Drive already mounted at /content/gdrive; to attempt to forcibly remount, call drive.mount(\"/content/gdrive\", force_remount=True).\n",
            "/content/gdrive/My Drive\n"
          ],
          "name": "stdout"
        }
      ]
    },
    {
      "cell_type": "markdown",
      "metadata": {
        "id": "q8QhB5Uwkh3f",
        "colab_type": "text"
      },
      "source": [
        "# Import Necessary Libraries"
      ]
    },
    {
      "cell_type": "code",
      "metadata": {
        "id": "2CoTqvDa1k90",
        "colab_type": "code",
        "colab": {}
      },
      "source": [
        "import os\n",
        "import pandas as pd\n",
        "import numpy as np"
      ],
      "execution_count": 0,
      "outputs": []
    },
    {
      "cell_type": "markdown",
      "metadata": {
        "id": "KRPiVvrU7ywn",
        "colab_type": "text"
      },
      "source": [
        "# Creating the DataFrame"
      ]
    },
    {
      "cell_type": "code",
      "metadata": {
        "id": "l5OLMvYck1Wa",
        "colab_type": "code",
        "colab": {}
      },
      "source": [
        "SITE = 'https://s3.amazonaws.com/drivendata/data/7/public/'\n",
        "\n",
        "# Load .csv file directly from the provided links\n",
        "SubmissionFormat = pd.read_csv(f'{SITE}SubmissionFormat.csv')\n",
        "TestSet = pd.read_csv(f'{SITE}702ddfc5-68cd-4d1d-a0de-f5f566f76d91.csv', parse_dates=['date_recorded'])\n",
        "TrainLabels = pd.read_csv(f'{SITE}0bf8bc6e-30d0-4c50-956a-603fc693d966.csv')\n",
        "TrainSet = pd.read_csv(f'{SITE}4910797b-ee55-40a7-8668-10efd5c1b960.csv', parse_dates=['date_recorded'])\n",
        "\n",
        "# Make a copy of the original files for processing\n",
        "TrainData = TrainSet.copy()\n",
        "TestData = TestSet.copy()"
      ],
      "execution_count": 0,
      "outputs": []
    },
    {
      "cell_type": "markdown",
      "metadata": {
        "id": "BPBgiFnb76XC",
        "colab_type": "text"
      },
      "source": [
        "# Renaming the Columns"
      ]
    },
    {
      "cell_type": "code",
      "metadata": {
        "id": "o-hCMhZslGv6",
        "colab_type": "code",
        "outputId": "e12b78f8-b45d-4dfa-fac6-3fdc7717e3b3",
        "colab": {
          "base_uri": "https://localhost:8080/",
          "height": 0
        }
      },
      "source": [
        "# Merging the Labels and Training set into a single Dataframe as well renaming the Column names properly.\n",
        "TrainData = TrainData.merge(TrainLabels, on='id')\n",
        "TrainingRenamedColumns = ['ID', 'TSHAmount', 'DateRecorded', 'Funder', 'GPSHeight', 'Installer', 'Longitutde',\n",
        "              'Latitude', 'WaterPointName', 'PrivateNum', 'Basin', 'SubVillage', 'Region', 'RegionCode',\n",
        "              'DistrictCode', 'LocalGovernmentArea', 'Ward', 'Population', 'PublicMeeting', 'RecordedBy',\n",
        "              'SchemeManagement', 'SchemeName', 'Permit', 'ConstructionYear', 'ExtractionType', \n",
        "              'ExtractionTypeGroup', 'ExtractionTypeClass', 'Management', 'ManagementGroup', 'Payment', \n",
        "              'PaymentType', 'WaterQuality', 'QualityGroup', 'Quantity', 'QuantityGroup', 'Source', \n",
        "              'SourceType', 'SourceClass', 'WaterPointType', 'WaterPointTypeGroup', 'StatusGroup']\n",
        "TrainData.set_axis(TrainingRenamedColumns, axis='columns', inplace=True)\n",
        "TrainData.sample(1)"
      ],
      "execution_count": 25,
      "outputs": [
        {
          "output_type": "execute_result",
          "data": {
            "text/html": [
              "<div>\n",
              "<style scoped>\n",
              "    .dataframe tbody tr th:only-of-type {\n",
              "        vertical-align: middle;\n",
              "    }\n",
              "\n",
              "    .dataframe tbody tr th {\n",
              "        vertical-align: top;\n",
              "    }\n",
              "\n",
              "    .dataframe thead th {\n",
              "        text-align: right;\n",
              "    }\n",
              "</style>\n",
              "<table border=\"1\" class=\"dataframe\">\n",
              "  <thead>\n",
              "    <tr style=\"text-align: right;\">\n",
              "      <th></th>\n",
              "      <th>ID</th>\n",
              "      <th>TSHAmount</th>\n",
              "      <th>DateRecorded</th>\n",
              "      <th>Funder</th>\n",
              "      <th>GPSHeight</th>\n",
              "      <th>Installer</th>\n",
              "      <th>Longitutde</th>\n",
              "      <th>Latitude</th>\n",
              "      <th>WaterPointName</th>\n",
              "      <th>PrivateNum</th>\n",
              "      <th>Basin</th>\n",
              "      <th>SubVillage</th>\n",
              "      <th>Region</th>\n",
              "      <th>RegionCode</th>\n",
              "      <th>DistrictCode</th>\n",
              "      <th>LocalGovernmentArea</th>\n",
              "      <th>Ward</th>\n",
              "      <th>Population</th>\n",
              "      <th>PublicMeeting</th>\n",
              "      <th>RecordedBy</th>\n",
              "      <th>SchemeManagement</th>\n",
              "      <th>SchemeName</th>\n",
              "      <th>Permit</th>\n",
              "      <th>ConstructionYear</th>\n",
              "      <th>ExtractionType</th>\n",
              "      <th>ExtractionTypeGroup</th>\n",
              "      <th>ExtractionTypeClass</th>\n",
              "      <th>Management</th>\n",
              "      <th>ManagementGroup</th>\n",
              "      <th>Payment</th>\n",
              "      <th>PaymentType</th>\n",
              "      <th>WaterQuality</th>\n",
              "      <th>QualityGroup</th>\n",
              "      <th>Quantity</th>\n",
              "      <th>QuantityGroup</th>\n",
              "      <th>Source</th>\n",
              "      <th>SourceType</th>\n",
              "      <th>SourceClass</th>\n",
              "      <th>WaterPointType</th>\n",
              "      <th>WaterPointTypeGroup</th>\n",
              "      <th>StatusGroup</th>\n",
              "    </tr>\n",
              "  </thead>\n",
              "  <tbody>\n",
              "    <tr>\n",
              "      <th>26711</th>\n",
              "      <td>24339</td>\n",
              "      <td>0.0</td>\n",
              "      <td>2011-03-18</td>\n",
              "      <td>Government Of Tanzania</td>\n",
              "      <td>0</td>\n",
              "      <td>GOVER</td>\n",
              "      <td>36.108132</td>\n",
              "      <td>-5.480929</td>\n",
              "      <td>Manyana</td>\n",
              "      <td>0</td>\n",
              "      <td>Wami / Ruvu</td>\n",
              "      <td>Karume</td>\n",
              "      <td>Dodoma</td>\n",
              "      <td>1</td>\n",
              "      <td>4</td>\n",
              "      <td>Chamwino</td>\n",
              "      <td>Segala</td>\n",
              "      <td>0</td>\n",
              "      <td>True</td>\n",
              "      <td>GeoData Consultants Ltd</td>\n",
              "      <td>VWC</td>\n",
              "      <td>Zaji</td>\n",
              "      <td>True</td>\n",
              "      <td>0</td>\n",
              "      <td>mono</td>\n",
              "      <td>mono</td>\n",
              "      <td>motorpump</td>\n",
              "      <td>vwc</td>\n",
              "      <td>user-group</td>\n",
              "      <td>unknown</td>\n",
              "      <td>unknown</td>\n",
              "      <td>soft</td>\n",
              "      <td>good</td>\n",
              "      <td>dry</td>\n",
              "      <td>dry</td>\n",
              "      <td>machine dbh</td>\n",
              "      <td>borehole</td>\n",
              "      <td>groundwater</td>\n",
              "      <td>communal standpipe</td>\n",
              "      <td>communal standpipe</td>\n",
              "      <td>non functional</td>\n",
              "    </tr>\n",
              "  </tbody>\n",
              "</table>\n",
              "</div>"
            ],
            "text/plain": [
              "          ID  TSHAmount  ... WaterPointTypeGroup     StatusGroup\n",
              "26711  24339        0.0  ...  communal standpipe  non functional\n",
              "\n",
              "[1 rows x 41 columns]"
            ]
          },
          "metadata": {
            "tags": []
          },
          "execution_count": 25
        }
      ]
    },
    {
      "cell_type": "code",
      "metadata": {
        "id": "0Vufo4Esn2jd",
        "colab_type": "code",
        "outputId": "7616356b-1fd4-4b81-9bec-e06b239fd2d7",
        "colab": {
          "base_uri": "https://localhost:8080/",
          "height": 0
        }
      },
      "source": [
        "# Renaming the columns for the Test set\n",
        "TestRenamedColumns = ['ID', 'TSHAmount', 'DateRecorded', 'Funder', 'GPSHeight',\n",
        "       'Installer', 'Longitude', 'Latitude', 'WaterPointName', 'PrivateNum',\n",
        "       'Basin', 'SubVillage', 'Region', 'RegionCode', 'DistrictCode', 'LocalGovernmentArea', \n",
        "       'Ward', 'Population', 'PublicMeeting', 'RecordedBy', 'SchemeManagement', \n",
        "       'SchemeName', 'Permit', 'ConstructionYear', 'ExtractionType', 'ExtractionTypeGroup', \n",
        "       'ExtractionTypeClass', 'Management', 'ManagementGroup', 'Payment', 'PaymentType', \n",
        "       'WaterQuality', 'QualityGroup', 'Quantity', 'QuantityGroup', 'Source', \n",
        "       'SourceType', 'SourceClass', 'WaterPointType', 'WaterPointTypeGroup']\n",
        "TestData.set_axis(TestRenamedColumns, axis=1, inplace=True)\n",
        "TestData.sample(1)"
      ],
      "execution_count": 26,
      "outputs": [
        {
          "output_type": "execute_result",
          "data": {
            "text/html": [
              "<div>\n",
              "<style scoped>\n",
              "    .dataframe tbody tr th:only-of-type {\n",
              "        vertical-align: middle;\n",
              "    }\n",
              "\n",
              "    .dataframe tbody tr th {\n",
              "        vertical-align: top;\n",
              "    }\n",
              "\n",
              "    .dataframe thead th {\n",
              "        text-align: right;\n",
              "    }\n",
              "</style>\n",
              "<table border=\"1\" class=\"dataframe\">\n",
              "  <thead>\n",
              "    <tr style=\"text-align: right;\">\n",
              "      <th></th>\n",
              "      <th>ID</th>\n",
              "      <th>TSHAmount</th>\n",
              "      <th>DateRecorded</th>\n",
              "      <th>Funder</th>\n",
              "      <th>GPSHeight</th>\n",
              "      <th>Installer</th>\n",
              "      <th>Longitude</th>\n",
              "      <th>Latitude</th>\n",
              "      <th>WaterPointName</th>\n",
              "      <th>PrivateNum</th>\n",
              "      <th>Basin</th>\n",
              "      <th>SubVillage</th>\n",
              "      <th>Region</th>\n",
              "      <th>RegionCode</th>\n",
              "      <th>DistrictCode</th>\n",
              "      <th>LocalGovernmentArea</th>\n",
              "      <th>Ward</th>\n",
              "      <th>Population</th>\n",
              "      <th>PublicMeeting</th>\n",
              "      <th>RecordedBy</th>\n",
              "      <th>SchemeManagement</th>\n",
              "      <th>SchemeName</th>\n",
              "      <th>Permit</th>\n",
              "      <th>ConstructionYear</th>\n",
              "      <th>ExtractionType</th>\n",
              "      <th>ExtractionTypeGroup</th>\n",
              "      <th>ExtractionTypeClass</th>\n",
              "      <th>Management</th>\n",
              "      <th>ManagementGroup</th>\n",
              "      <th>Payment</th>\n",
              "      <th>PaymentType</th>\n",
              "      <th>WaterQuality</th>\n",
              "      <th>QualityGroup</th>\n",
              "      <th>Quantity</th>\n",
              "      <th>QuantityGroup</th>\n",
              "      <th>Source</th>\n",
              "      <th>SourceType</th>\n",
              "      <th>SourceClass</th>\n",
              "      <th>WaterPointType</th>\n",
              "      <th>WaterPointTypeGroup</th>\n",
              "    </tr>\n",
              "  </thead>\n",
              "  <tbody>\n",
              "    <tr>\n",
              "      <th>4105</th>\n",
              "      <td>58</td>\n",
              "      <td>0.0</td>\n",
              "      <td>2013-02-13</td>\n",
              "      <td>NaN</td>\n",
              "      <td>1514</td>\n",
              "      <td>NaN</td>\n",
              "      <td>34.68152</td>\n",
              "      <td>-5.062091</td>\n",
              "      <td>Ihanja Secondary</td>\n",
              "      <td>0</td>\n",
              "      <td>Internal</td>\n",
              "      <td>Junjuhu</td>\n",
              "      <td>Singida</td>\n",
              "      <td>13</td>\n",
              "      <td>2</td>\n",
              "      <td>Singida Rural</td>\n",
              "      <td>Ihanja</td>\n",
              "      <td>1</td>\n",
              "      <td>True</td>\n",
              "      <td>GeoData Consultants Ltd</td>\n",
              "      <td>VWC</td>\n",
              "      <td>NaN</td>\n",
              "      <td>NaN</td>\n",
              "      <td>1990</td>\n",
              "      <td>other</td>\n",
              "      <td>other</td>\n",
              "      <td>other</td>\n",
              "      <td>vwc</td>\n",
              "      <td>user-group</td>\n",
              "      <td>never pay</td>\n",
              "      <td>never pay</td>\n",
              "      <td>unknown</td>\n",
              "      <td>unknown</td>\n",
              "      <td>insufficient</td>\n",
              "      <td>insufficient</td>\n",
              "      <td>rainwater harvesting</td>\n",
              "      <td>rainwater harvesting</td>\n",
              "      <td>surface</td>\n",
              "      <td>other</td>\n",
              "      <td>other</td>\n",
              "    </tr>\n",
              "  </tbody>\n",
              "</table>\n",
              "</div>"
            ],
            "text/plain": [
              "      ID  TSHAmount DateRecorded  ... SourceClass  WaterPointType WaterPointTypeGroup\n",
              "4105  58        0.0   2013-02-13  ...     surface           other               other\n",
              "\n",
              "[1 rows x 40 columns]"
            ]
          },
          "metadata": {
            "tags": []
          },
          "execution_count": 26
        }
      ]
    },
    {
      "cell_type": "markdown",
      "metadata": {
        "id": "B7DEgJUNwhXq",
        "colab_type": "text"
      },
      "source": [
        "# Handling Missing Values"
      ]
    },
    {
      "cell_type": "code",
      "metadata": {
        "id": "43DnGhZ2wmUI",
        "colab_type": "code",
        "colab": {}
      },
      "source": [
        "TrainData['ConstructionYear'].replace(0, np.nan, inplace=True)"
      ],
      "execution_count": 0,
      "outputs": []
    },
    {
      "cell_type": "markdown",
      "metadata": {
        "id": "ym2T5C2h8BU_",
        "colab_type": "text"
      },
      "source": [
        "# Saving The `.csv` Files to GDrive"
      ]
    },
    {
      "cell_type": "code",
      "metadata": {
        "id": "h4e8RdQ0FBtl",
        "colab_type": "code",
        "colab": {}
      },
      "source": [
        "# Filepath to the directory for the data sets\n",
        "FilePath = '/content/gdrive/My Drive/PumpItUp/data/'\n",
        "\n",
        "# Saving dataframes as .csv files to GDrive\n",
        "TrainData.to_csv(f'{FilePath}TrainData', index=False)\n",
        "TestData.to_csv(f'{FilePath}TestData', index=False)"
      ],
      "execution_count": 0,
      "outputs": []
    }
  ]
}