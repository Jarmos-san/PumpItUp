{
  "nbformat": 4,
  "nbformat_minor": 0,
  "metadata": {
    "colab": {
      "name": "Overview.ipynb",
      "provenance": [],
      "collapsed_sections": [
        "2mAwsBKGRDLu"
      ],
      "authorship_tag": "ABX9TyOjT+G3h5PYxTF/xtXH2cjC",
      "include_colab_link": true
    },
    "kernelspec": {
      "name": "python3",
      "display_name": "Python 3"
    }
  },
  "cells": [
    {
      "cell_type": "markdown",
      "metadata": {
        "id": "view-in-github",
        "colab_type": "text"
      },
      "source": [
        "<a href=\"https://colab.research.google.com/github/Jarmos-san/PumpItUp/blob/master/Overview.ipynb\" target=\"_parent\"><img src=\"https://colab.research.google.com/assets/colab-badge.svg\" alt=\"Open In Colab\"/></a>"
      ]
    },
    {
      "cell_type": "markdown",
      "metadata": {
        "id": "fM5NhO4JQqCI",
        "colab_type": "text"
      },
      "source": [
        "# [DrivenData Competition | Pump it Up: Data Mining the Water Table](https://www.drivendata.org/competitions/7/pump-it-up-data-mining-the-water-table/page/23/)\n",
        "\n",
        "Goal - ***To predict the operating condition of a waterpoint for each record in the dataset.***\n",
        "\n",
        "[Discussion Forums](https://community.drivendata.org/c/pump-it-up-data-mining-the-water-table)\n",
        "\n",
        "---\n",
        "\n",
        "Problem Description has 3 sections:\n",
        "\n",
        "- Features\n",
        "- Labels\n",
        "- Submission Format\n",
        "\n",
        "## Features:\n",
        "\n",
        "- `TSHAmount` - **Total static head (amount water available to waterpoint)**\n",
        "- `DateOfRecording` - **The date the row was entered**\n",
        "- `Funder` - **Who funded the well**\n",
        "- `GPSHeight` - **Altitude of the well**\n",
        "- `Installer` - **Organization that installed the well**\n",
        "- `Longitude` - **GPS coordinate**\n",
        "- `Latitude` - **GPS coordinate**\n",
        "- `WaterPointName` - **Name of the waterpoint if there is one**\n",
        "- `PrivateNum` -\n",
        "- `Basin` - **Geographic water basin**\n",
        "- `SubVillage` - **Geographic location**\n",
        "- `Region` - **Geographic location**\n",
        "- `RegionCode` - **Geographic location (coded)**\n",
        "- `DistrictCode` - **Geographic location (coded)**\n",
        "- `LocalGovernmentArea` - **Geographic location**\n",
        "- `Ward` - **Geographic location**\n",
        "- `Population` - **Population around the well**\n",
        "- `PublicMeeting` - **True/False**\n",
        "- `RecordedBy` - **Group entering this row of data**\n",
        "- `SchemeManager` - **Who operates the waterpoint**\n",
        "- `SchemeName` - **Who operates the waterpoint**\n",
        "- `Permit` - **If the waterpoint is permitted**\n",
        "- `YearOfConstruction` - **Year the waterpoint was constructed**\n",
        "- `ExtractionType` - **The kind of extraction the waterpoint uses**\n",
        "- `ExtractionTypeGroup` - **The kind of extraction the waterpoint uses**\n",
        "- `ExtractionTypeClass` - **The kind of extraction the waterpoint uses**\n",
        "- `MangementType` - **How the waterpoint is managed**\n",
        "- `ManagementGroup` - **How the waterpoint is managed**\n",
        "- `OperationCosts` - **What the water costs**\n",
        "- `PaymentType` - **What the water costs**\n",
        "- `WaterQuality` - **The quality of the water**\n",
        "- `Qualityroup` - **The quality of the water**\n",
        "- `Quantity` - **The quantity of water**\n",
        "- `QuantityGroup` - **The quantity of water**\n",
        "- `Source` - **The source of the water**\n",
        "- `SourceType` - **The source of the water**\n",
        "- `SourceClass` - **The source of the water**\n",
        "- `WaterPointType` - **The kind of waterpoint**\n",
        "- `WaterPointTypeGroup` - **The kind of waterpoint**\n",
        "\n",
        "## Labels:\n",
        "\n",
        "- `functional` - **the waterpoint is operational and there are no repairs needed**\n",
        "- `functional needs repair` - **the waterpoint is operational, but needs repairs**\n",
        "- `non functional` - **the waterpoint is not operational**\n",
        "\n",
        "## Submission Format:\n",
        "\n",
        "id \t  | status_group |\n",
        "------|--------------|\n",
        "50785 |\tfunctional   |\n",
        "51630 |\tfunctional   |\n",
        "17168 |\tfunctional   |\n",
        "45559 |\tfunctional   |\n",
        "49871 |\tfunctional   |\n",
        "\n",
        "## Data Download:\n",
        "\n",
        "File \t                                                                                                            | Description                                       |\n",
        "------------------------------------------------------------------------------------------------------------------|---------------------------------------------------|\n",
        "[Submission format](https://s3.amazonaws.com/drivendata/data/7/public/SubmissionFormat.csv)                       |\tThe format for submitting your predictions        |\n",
        "[Test Set Values](https://s3.amazonaws.com/drivendata/data/7/public/702ddfc5-68cd-4d1d-a0de-f5f566f76d91.csv)     |\tThe independent variables that need predictions   |\n",
        "[Training Set Labels](https://s3.amazonaws.com/drivendata/data/7/public/0bf8bc6e-30d0-4c50-956a-603fc693d966.csv) |\tThe dependent variable (status_group) for each of the rows in Training set values   |\n",
        "[Training Set Values](https://s3.amazonaws.com/drivendata/data/7/public/4910797b-ee55-40a7-8668-10efd5c1b960.csv) | The independent variables for the training set    |"
      ]
    },
    {
      "cell_type": "markdown",
      "metadata": {
        "id": "2mAwsBKGRDLu",
        "colab_type": "text"
      },
      "source": [
        "# Importing Necessary Libraries\n",
        "\n",
        "- **Pandas** *v0.25.3*\n",
        "- **Numpy** *v1.17.5*\n",
        "- **Missingno** *v0.4.2*\n",
        "- **Seaborn** *v0.10.0*"
      ]
    },
    {
      "cell_type": "code",
      "metadata": {
        "id": "XW1GO8PjQg2n",
        "colab_type": "code",
        "colab": {
          "base_uri": "https://localhost:8080/",
          "height": 0
        },
        "outputId": "03940c66-bfed-4866-d75c-d959c6934bbd"
      },
      "source": [
        "# Loading necessary libraries\n",
        "import pandas as pd\n",
        "import numpy as np\n",
        "import missingno\n",
        "\n",
        "# Plotting libraries\n",
        "import matplotlib.pyplot as plt\n",
        "import seaborn as sns\n",
        "\n",
        "# Checking the version for easier debugging at some point of time.\n",
        "# print(f'Python v{python3.__version__}')\n",
        "print(f'Pandas v{pd.__version__}')\n",
        "print(f'Numpy v{np.__version__}')\n",
        "print(f'Missingno v{missingno.__version__}')\n",
        "print(f'Seaborn v{sns.__version__}')\n",
        "\n",
        "%matplotlib inline\n",
        "sns.set(style='darkgrid')"
      ],
      "execution_count": 117,
      "outputs": [
        {
          "output_type": "stream",
          "text": [
            "Pandas v0.25.3\n",
            "Numpy v1.17.5\n",
            "Missingno v0.4.2\n",
            "Seaborn v0.10.0\n"
          ],
          "name": "stdout"
        }
      ]
    },
    {
      "cell_type": "markdown",
      "metadata": {
        "id": "B2iKepFjTQDQ",
        "colab_type": "text"
      },
      "source": [
        "# Dataset Overview"
      ]
    },
    {
      "cell_type": "code",
      "metadata": {
        "id": "OgQq4BNqRoVV",
        "colab_type": "code",
        "colab": {}
      },
      "source": [
        "PATH = 'https://s3.amazonaws.com/drivendata/data/7/public/'\n",
        "\n",
        "# Load .csv file directly from the provided links\n",
        "SubmissionFormat = pd.read_csv(f'{PATH}SubmissionFormat.csv')\n",
        "TestSet = pd.read_csv(f'{PATH}702ddfc5-68cd-4d1d-a0de-f5f566f76d91.csv', parse_dates=['date_recorded'])\n",
        "TrainLabels = pd.read_csv(f'{PATH}0bf8bc6e-30d0-4c50-956a-603fc693d966.csv')\n",
        "TrainSet = pd.read_csv(f'{PATH}4910797b-ee55-40a7-8668-10efd5c1b960.csv', parse_dates=['date_recorded'])\n",
        "\n",
        "# Make a copy of the original files for processing\n",
        "TrainData = TrainSet.copy()\n",
        "TestData = TestSet.copy()"
      ],
      "execution_count": 0,
      "outputs": []
    },
    {
      "cell_type": "code",
      "metadata": {
        "id": "5L0OMSX7TbJf",
        "colab_type": "code",
        "colab": {
          "base_uri": "https://localhost:8080/",
          "height": 143
        },
        "outputId": "cb127ef3-0fef-4156-b6e8-66c7e29e1103"
      },
      "source": [
        "# This is how the Submission File be like\n",
        "SubmissionFormat.head(3)"
      ],
      "execution_count": 119,
      "outputs": [
        {
          "output_type": "execute_result",
          "data": {
            "text/html": [
              "<div>\n",
              "<style scoped>\n",
              "    .dataframe tbody tr th:only-of-type {\n",
              "        vertical-align: middle;\n",
              "    }\n",
              "\n",
              "    .dataframe tbody tr th {\n",
              "        vertical-align: top;\n",
              "    }\n",
              "\n",
              "    .dataframe thead th {\n",
              "        text-align: right;\n",
              "    }\n",
              "</style>\n",
              "<table border=\"1\" class=\"dataframe\">\n",
              "  <thead>\n",
              "    <tr style=\"text-align: right;\">\n",
              "      <th></th>\n",
              "      <th>id</th>\n",
              "      <th>status_group</th>\n",
              "    </tr>\n",
              "  </thead>\n",
              "  <tbody>\n",
              "    <tr>\n",
              "      <th>0</th>\n",
              "      <td>50785</td>\n",
              "      <td>predicted label</td>\n",
              "    </tr>\n",
              "    <tr>\n",
              "      <th>1</th>\n",
              "      <td>51630</td>\n",
              "      <td>predicted label</td>\n",
              "    </tr>\n",
              "    <tr>\n",
              "      <th>2</th>\n",
              "      <td>17168</td>\n",
              "      <td>predicted label</td>\n",
              "    </tr>\n",
              "  </tbody>\n",
              "</table>\n",
              "</div>"
            ],
            "text/plain": [
              "      id     status_group\n",
              "0  50785  predicted label\n",
              "1  51630  predicted label\n",
              "2  17168  predicted label"
            ]
          },
          "metadata": {
            "tags": []
          },
          "execution_count": 119
        }
      ]
    },
    {
      "cell_type": "code",
      "metadata": {
        "id": "hXjHOowfTktS",
        "colab_type": "code",
        "colab": {
          "base_uri": "https://localhost:8080/",
          "height": 206
        },
        "outputId": "22b2c947-9e1c-488c-abd9-371376439117"
      },
      "source": [
        "# Taking a look at the Training Labels file\n",
        "TrainLabels.head()"
      ],
      "execution_count": 120,
      "outputs": [
        {
          "output_type": "execute_result",
          "data": {
            "text/html": [
              "<div>\n",
              "<style scoped>\n",
              "    .dataframe tbody tr th:only-of-type {\n",
              "        vertical-align: middle;\n",
              "    }\n",
              "\n",
              "    .dataframe tbody tr th {\n",
              "        vertical-align: top;\n",
              "    }\n",
              "\n",
              "    .dataframe thead th {\n",
              "        text-align: right;\n",
              "    }\n",
              "</style>\n",
              "<table border=\"1\" class=\"dataframe\">\n",
              "  <thead>\n",
              "    <tr style=\"text-align: right;\">\n",
              "      <th></th>\n",
              "      <th>id</th>\n",
              "      <th>status_group</th>\n",
              "    </tr>\n",
              "  </thead>\n",
              "  <tbody>\n",
              "    <tr>\n",
              "      <th>0</th>\n",
              "      <td>69572</td>\n",
              "      <td>functional</td>\n",
              "    </tr>\n",
              "    <tr>\n",
              "      <th>1</th>\n",
              "      <td>8776</td>\n",
              "      <td>functional</td>\n",
              "    </tr>\n",
              "    <tr>\n",
              "      <th>2</th>\n",
              "      <td>34310</td>\n",
              "      <td>functional</td>\n",
              "    </tr>\n",
              "    <tr>\n",
              "      <th>3</th>\n",
              "      <td>67743</td>\n",
              "      <td>non functional</td>\n",
              "    </tr>\n",
              "    <tr>\n",
              "      <th>4</th>\n",
              "      <td>19728</td>\n",
              "      <td>functional</td>\n",
              "    </tr>\n",
              "  </tbody>\n",
              "</table>\n",
              "</div>"
            ],
            "text/plain": [
              "      id    status_group\n",
              "0  69572      functional\n",
              "1   8776      functional\n",
              "2  34310      functional\n",
              "3  67743  non functional\n",
              "4  19728      functional"
            ]
          },
          "metadata": {
            "tags": []
          },
          "execution_count": 120
        }
      ]
    },
    {
      "cell_type": "code",
      "metadata": {
        "id": "dJ_U7BfNURen",
        "colab_type": "code",
        "colab": {
          "base_uri": "https://localhost:8080/",
          "height": 72
        },
        "outputId": "b4497e10-51c9-46b0-831e-c18ecb55800b"
      },
      "source": [
        "# Checking out the shape of the Train & Test set\n",
        "print(f'Training set has {TrainData.shape[0]} rows & {TrainData.shape[1]} columns')\n",
        "print(f'Training labels has {TrainLabels.shape[0]} rows & {TrainLabels.shape[1]} columns')\n",
        "print(f'Test set has {TestData.shape[0]} rows & {TestData.shape[1]} columns')"
      ],
      "execution_count": 121,
      "outputs": [
        {
          "output_type": "stream",
          "text": [
            "Training set has 59400 rows & 40 columns\n",
            "Training labels has 59400 rows & 2 columns\n",
            "Test set has 14850 rows & 40 columns\n"
          ],
          "name": "stdout"
        }
      ]
    },
    {
      "cell_type": "code",
      "metadata": {
        "id": "QP_68DiLV-UK",
        "colab_type": "code",
        "colab": {
          "base_uri": "https://localhost:8080/",
          "height": 417
        },
        "outputId": "04dc3ee5-66fe-4247-f4e2-45974ee3504d"
      },
      "source": [
        "# First 5 rows of the Tranining set\n",
        "TrainData.head()"
      ],
      "execution_count": 122,
      "outputs": [
        {
          "output_type": "execute_result",
          "data": {
            "text/html": [
              "<div>\n",
              "<style scoped>\n",
              "    .dataframe tbody tr th:only-of-type {\n",
              "        vertical-align: middle;\n",
              "    }\n",
              "\n",
              "    .dataframe tbody tr th {\n",
              "        vertical-align: top;\n",
              "    }\n",
              "\n",
              "    .dataframe thead th {\n",
              "        text-align: right;\n",
              "    }\n",
              "</style>\n",
              "<table border=\"1\" class=\"dataframe\">\n",
              "  <thead>\n",
              "    <tr style=\"text-align: right;\">\n",
              "      <th></th>\n",
              "      <th>id</th>\n",
              "      <th>amount_tsh</th>\n",
              "      <th>date_recorded</th>\n",
              "      <th>funder</th>\n",
              "      <th>gps_height</th>\n",
              "      <th>installer</th>\n",
              "      <th>longitude</th>\n",
              "      <th>latitude</th>\n",
              "      <th>wpt_name</th>\n",
              "      <th>num_private</th>\n",
              "      <th>basin</th>\n",
              "      <th>subvillage</th>\n",
              "      <th>region</th>\n",
              "      <th>region_code</th>\n",
              "      <th>district_code</th>\n",
              "      <th>lga</th>\n",
              "      <th>ward</th>\n",
              "      <th>population</th>\n",
              "      <th>public_meeting</th>\n",
              "      <th>recorded_by</th>\n",
              "      <th>scheme_management</th>\n",
              "      <th>scheme_name</th>\n",
              "      <th>permit</th>\n",
              "      <th>construction_year</th>\n",
              "      <th>extraction_type</th>\n",
              "      <th>extraction_type_group</th>\n",
              "      <th>extraction_type_class</th>\n",
              "      <th>management</th>\n",
              "      <th>management_group</th>\n",
              "      <th>payment</th>\n",
              "      <th>payment_type</th>\n",
              "      <th>water_quality</th>\n",
              "      <th>quality_group</th>\n",
              "      <th>quantity</th>\n",
              "      <th>quantity_group</th>\n",
              "      <th>source</th>\n",
              "      <th>source_type</th>\n",
              "      <th>source_class</th>\n",
              "      <th>waterpoint_type</th>\n",
              "      <th>waterpoint_type_group</th>\n",
              "    </tr>\n",
              "  </thead>\n",
              "  <tbody>\n",
              "    <tr>\n",
              "      <th>0</th>\n",
              "      <td>69572</td>\n",
              "      <td>6000.0</td>\n",
              "      <td>2011-03-14</td>\n",
              "      <td>Roman</td>\n",
              "      <td>1390</td>\n",
              "      <td>Roman</td>\n",
              "      <td>34.938093</td>\n",
              "      <td>-9.856322</td>\n",
              "      <td>none</td>\n",
              "      <td>0</td>\n",
              "      <td>Lake Nyasa</td>\n",
              "      <td>Mnyusi B</td>\n",
              "      <td>Iringa</td>\n",
              "      <td>11</td>\n",
              "      <td>5</td>\n",
              "      <td>Ludewa</td>\n",
              "      <td>Mundindi</td>\n",
              "      <td>109</td>\n",
              "      <td>True</td>\n",
              "      <td>GeoData Consultants Ltd</td>\n",
              "      <td>VWC</td>\n",
              "      <td>Roman</td>\n",
              "      <td>False</td>\n",
              "      <td>1999</td>\n",
              "      <td>gravity</td>\n",
              "      <td>gravity</td>\n",
              "      <td>gravity</td>\n",
              "      <td>vwc</td>\n",
              "      <td>user-group</td>\n",
              "      <td>pay annually</td>\n",
              "      <td>annually</td>\n",
              "      <td>soft</td>\n",
              "      <td>good</td>\n",
              "      <td>enough</td>\n",
              "      <td>enough</td>\n",
              "      <td>spring</td>\n",
              "      <td>spring</td>\n",
              "      <td>groundwater</td>\n",
              "      <td>communal standpipe</td>\n",
              "      <td>communal standpipe</td>\n",
              "    </tr>\n",
              "    <tr>\n",
              "      <th>1</th>\n",
              "      <td>8776</td>\n",
              "      <td>0.0</td>\n",
              "      <td>2013-03-06</td>\n",
              "      <td>Grumeti</td>\n",
              "      <td>1399</td>\n",
              "      <td>GRUMETI</td>\n",
              "      <td>34.698766</td>\n",
              "      <td>-2.147466</td>\n",
              "      <td>Zahanati</td>\n",
              "      <td>0</td>\n",
              "      <td>Lake Victoria</td>\n",
              "      <td>Nyamara</td>\n",
              "      <td>Mara</td>\n",
              "      <td>20</td>\n",
              "      <td>2</td>\n",
              "      <td>Serengeti</td>\n",
              "      <td>Natta</td>\n",
              "      <td>280</td>\n",
              "      <td>NaN</td>\n",
              "      <td>GeoData Consultants Ltd</td>\n",
              "      <td>Other</td>\n",
              "      <td>NaN</td>\n",
              "      <td>True</td>\n",
              "      <td>2010</td>\n",
              "      <td>gravity</td>\n",
              "      <td>gravity</td>\n",
              "      <td>gravity</td>\n",
              "      <td>wug</td>\n",
              "      <td>user-group</td>\n",
              "      <td>never pay</td>\n",
              "      <td>never pay</td>\n",
              "      <td>soft</td>\n",
              "      <td>good</td>\n",
              "      <td>insufficient</td>\n",
              "      <td>insufficient</td>\n",
              "      <td>rainwater harvesting</td>\n",
              "      <td>rainwater harvesting</td>\n",
              "      <td>surface</td>\n",
              "      <td>communal standpipe</td>\n",
              "      <td>communal standpipe</td>\n",
              "    </tr>\n",
              "    <tr>\n",
              "      <th>2</th>\n",
              "      <td>34310</td>\n",
              "      <td>25.0</td>\n",
              "      <td>2013-02-25</td>\n",
              "      <td>Lottery Club</td>\n",
              "      <td>686</td>\n",
              "      <td>World vision</td>\n",
              "      <td>37.460664</td>\n",
              "      <td>-3.821329</td>\n",
              "      <td>Kwa Mahundi</td>\n",
              "      <td>0</td>\n",
              "      <td>Pangani</td>\n",
              "      <td>Majengo</td>\n",
              "      <td>Manyara</td>\n",
              "      <td>21</td>\n",
              "      <td>4</td>\n",
              "      <td>Simanjiro</td>\n",
              "      <td>Ngorika</td>\n",
              "      <td>250</td>\n",
              "      <td>True</td>\n",
              "      <td>GeoData Consultants Ltd</td>\n",
              "      <td>VWC</td>\n",
              "      <td>Nyumba ya mungu pipe scheme</td>\n",
              "      <td>True</td>\n",
              "      <td>2009</td>\n",
              "      <td>gravity</td>\n",
              "      <td>gravity</td>\n",
              "      <td>gravity</td>\n",
              "      <td>vwc</td>\n",
              "      <td>user-group</td>\n",
              "      <td>pay per bucket</td>\n",
              "      <td>per bucket</td>\n",
              "      <td>soft</td>\n",
              "      <td>good</td>\n",
              "      <td>enough</td>\n",
              "      <td>enough</td>\n",
              "      <td>dam</td>\n",
              "      <td>dam</td>\n",
              "      <td>surface</td>\n",
              "      <td>communal standpipe multiple</td>\n",
              "      <td>communal standpipe</td>\n",
              "    </tr>\n",
              "    <tr>\n",
              "      <th>3</th>\n",
              "      <td>67743</td>\n",
              "      <td>0.0</td>\n",
              "      <td>2013-01-28</td>\n",
              "      <td>Unicef</td>\n",
              "      <td>263</td>\n",
              "      <td>UNICEF</td>\n",
              "      <td>38.486161</td>\n",
              "      <td>-11.155298</td>\n",
              "      <td>Zahanati Ya Nanyumbu</td>\n",
              "      <td>0</td>\n",
              "      <td>Ruvuma / Southern Coast</td>\n",
              "      <td>Mahakamani</td>\n",
              "      <td>Mtwara</td>\n",
              "      <td>90</td>\n",
              "      <td>63</td>\n",
              "      <td>Nanyumbu</td>\n",
              "      <td>Nanyumbu</td>\n",
              "      <td>58</td>\n",
              "      <td>True</td>\n",
              "      <td>GeoData Consultants Ltd</td>\n",
              "      <td>VWC</td>\n",
              "      <td>NaN</td>\n",
              "      <td>True</td>\n",
              "      <td>1986</td>\n",
              "      <td>submersible</td>\n",
              "      <td>submersible</td>\n",
              "      <td>submersible</td>\n",
              "      <td>vwc</td>\n",
              "      <td>user-group</td>\n",
              "      <td>never pay</td>\n",
              "      <td>never pay</td>\n",
              "      <td>soft</td>\n",
              "      <td>good</td>\n",
              "      <td>dry</td>\n",
              "      <td>dry</td>\n",
              "      <td>machine dbh</td>\n",
              "      <td>borehole</td>\n",
              "      <td>groundwater</td>\n",
              "      <td>communal standpipe multiple</td>\n",
              "      <td>communal standpipe</td>\n",
              "    </tr>\n",
              "    <tr>\n",
              "      <th>4</th>\n",
              "      <td>19728</td>\n",
              "      <td>0.0</td>\n",
              "      <td>2011-07-13</td>\n",
              "      <td>Action In A</td>\n",
              "      <td>0</td>\n",
              "      <td>Artisan</td>\n",
              "      <td>31.130847</td>\n",
              "      <td>-1.825359</td>\n",
              "      <td>Shuleni</td>\n",
              "      <td>0</td>\n",
              "      <td>Lake Victoria</td>\n",
              "      <td>Kyanyamisa</td>\n",
              "      <td>Kagera</td>\n",
              "      <td>18</td>\n",
              "      <td>1</td>\n",
              "      <td>Karagwe</td>\n",
              "      <td>Nyakasimbi</td>\n",
              "      <td>0</td>\n",
              "      <td>True</td>\n",
              "      <td>GeoData Consultants Ltd</td>\n",
              "      <td>NaN</td>\n",
              "      <td>NaN</td>\n",
              "      <td>True</td>\n",
              "      <td>0</td>\n",
              "      <td>gravity</td>\n",
              "      <td>gravity</td>\n",
              "      <td>gravity</td>\n",
              "      <td>other</td>\n",
              "      <td>other</td>\n",
              "      <td>never pay</td>\n",
              "      <td>never pay</td>\n",
              "      <td>soft</td>\n",
              "      <td>good</td>\n",
              "      <td>seasonal</td>\n",
              "      <td>seasonal</td>\n",
              "      <td>rainwater harvesting</td>\n",
              "      <td>rainwater harvesting</td>\n",
              "      <td>surface</td>\n",
              "      <td>communal standpipe</td>\n",
              "      <td>communal standpipe</td>\n",
              "    </tr>\n",
              "  </tbody>\n",
              "</table>\n",
              "</div>"
            ],
            "text/plain": [
              "      id  amount_tsh  ...              waterpoint_type waterpoint_type_group\n",
              "0  69572      6000.0  ...           communal standpipe    communal standpipe\n",
              "1   8776         0.0  ...           communal standpipe    communal standpipe\n",
              "2  34310        25.0  ...  communal standpipe multiple    communal standpipe\n",
              "3  67743         0.0  ...  communal standpipe multiple    communal standpipe\n",
              "4  19728         0.0  ...           communal standpipe    communal standpipe\n",
              "\n",
              "[5 rows x 40 columns]"
            ]
          },
          "metadata": {
            "tags": []
          },
          "execution_count": 122
        }
      ]
    },
    {
      "cell_type": "code",
      "metadata": {
        "id": "N83G_lKpWL86",
        "colab_type": "code",
        "colab": {
          "base_uri": "https://localhost:8080/",
          "height": 435
        },
        "outputId": "b75351fb-ddc7-4caf-b8a9-bb9eea6eeaa2"
      },
      "source": [
        "# First 5 rows of the Testing set\n",
        "TestData.head()"
      ],
      "execution_count": 123,
      "outputs": [
        {
          "output_type": "execute_result",
          "data": {
            "text/html": [
              "<div>\n",
              "<style scoped>\n",
              "    .dataframe tbody tr th:only-of-type {\n",
              "        vertical-align: middle;\n",
              "    }\n",
              "\n",
              "    .dataframe tbody tr th {\n",
              "        vertical-align: top;\n",
              "    }\n",
              "\n",
              "    .dataframe thead th {\n",
              "        text-align: right;\n",
              "    }\n",
              "</style>\n",
              "<table border=\"1\" class=\"dataframe\">\n",
              "  <thead>\n",
              "    <tr style=\"text-align: right;\">\n",
              "      <th></th>\n",
              "      <th>id</th>\n",
              "      <th>amount_tsh</th>\n",
              "      <th>date_recorded</th>\n",
              "      <th>funder</th>\n",
              "      <th>gps_height</th>\n",
              "      <th>installer</th>\n",
              "      <th>longitude</th>\n",
              "      <th>latitude</th>\n",
              "      <th>wpt_name</th>\n",
              "      <th>num_private</th>\n",
              "      <th>basin</th>\n",
              "      <th>subvillage</th>\n",
              "      <th>region</th>\n",
              "      <th>region_code</th>\n",
              "      <th>district_code</th>\n",
              "      <th>lga</th>\n",
              "      <th>ward</th>\n",
              "      <th>population</th>\n",
              "      <th>public_meeting</th>\n",
              "      <th>recorded_by</th>\n",
              "      <th>scheme_management</th>\n",
              "      <th>scheme_name</th>\n",
              "      <th>permit</th>\n",
              "      <th>construction_year</th>\n",
              "      <th>extraction_type</th>\n",
              "      <th>extraction_type_group</th>\n",
              "      <th>extraction_type_class</th>\n",
              "      <th>management</th>\n",
              "      <th>management_group</th>\n",
              "      <th>payment</th>\n",
              "      <th>payment_type</th>\n",
              "      <th>water_quality</th>\n",
              "      <th>quality_group</th>\n",
              "      <th>quantity</th>\n",
              "      <th>quantity_group</th>\n",
              "      <th>source</th>\n",
              "      <th>source_type</th>\n",
              "      <th>source_class</th>\n",
              "      <th>waterpoint_type</th>\n",
              "      <th>waterpoint_type_group</th>\n",
              "    </tr>\n",
              "  </thead>\n",
              "  <tbody>\n",
              "    <tr>\n",
              "      <th>0</th>\n",
              "      <td>50785</td>\n",
              "      <td>0.0</td>\n",
              "      <td>2013-02-04</td>\n",
              "      <td>Dmdd</td>\n",
              "      <td>1996</td>\n",
              "      <td>DMDD</td>\n",
              "      <td>35.290799</td>\n",
              "      <td>-4.059696</td>\n",
              "      <td>Dinamu Secondary School</td>\n",
              "      <td>0</td>\n",
              "      <td>Internal</td>\n",
              "      <td>Magoma</td>\n",
              "      <td>Manyara</td>\n",
              "      <td>21</td>\n",
              "      <td>3</td>\n",
              "      <td>Mbulu</td>\n",
              "      <td>Bashay</td>\n",
              "      <td>321</td>\n",
              "      <td>True</td>\n",
              "      <td>GeoData Consultants Ltd</td>\n",
              "      <td>Parastatal</td>\n",
              "      <td>NaN</td>\n",
              "      <td>True</td>\n",
              "      <td>2012</td>\n",
              "      <td>other</td>\n",
              "      <td>other</td>\n",
              "      <td>other</td>\n",
              "      <td>parastatal</td>\n",
              "      <td>parastatal</td>\n",
              "      <td>never pay</td>\n",
              "      <td>never pay</td>\n",
              "      <td>soft</td>\n",
              "      <td>good</td>\n",
              "      <td>seasonal</td>\n",
              "      <td>seasonal</td>\n",
              "      <td>rainwater harvesting</td>\n",
              "      <td>rainwater harvesting</td>\n",
              "      <td>surface</td>\n",
              "      <td>other</td>\n",
              "      <td>other</td>\n",
              "    </tr>\n",
              "    <tr>\n",
              "      <th>1</th>\n",
              "      <td>51630</td>\n",
              "      <td>0.0</td>\n",
              "      <td>2013-02-04</td>\n",
              "      <td>Government Of Tanzania</td>\n",
              "      <td>1569</td>\n",
              "      <td>DWE</td>\n",
              "      <td>36.656709</td>\n",
              "      <td>-3.309214</td>\n",
              "      <td>Kimnyak</td>\n",
              "      <td>0</td>\n",
              "      <td>Pangani</td>\n",
              "      <td>Kimnyak</td>\n",
              "      <td>Arusha</td>\n",
              "      <td>2</td>\n",
              "      <td>2</td>\n",
              "      <td>Arusha Rural</td>\n",
              "      <td>Kimnyaki</td>\n",
              "      <td>300</td>\n",
              "      <td>True</td>\n",
              "      <td>GeoData Consultants Ltd</td>\n",
              "      <td>VWC</td>\n",
              "      <td>TPRI pipe line</td>\n",
              "      <td>True</td>\n",
              "      <td>2000</td>\n",
              "      <td>gravity</td>\n",
              "      <td>gravity</td>\n",
              "      <td>gravity</td>\n",
              "      <td>vwc</td>\n",
              "      <td>user-group</td>\n",
              "      <td>never pay</td>\n",
              "      <td>never pay</td>\n",
              "      <td>soft</td>\n",
              "      <td>good</td>\n",
              "      <td>insufficient</td>\n",
              "      <td>insufficient</td>\n",
              "      <td>spring</td>\n",
              "      <td>spring</td>\n",
              "      <td>groundwater</td>\n",
              "      <td>communal standpipe</td>\n",
              "      <td>communal standpipe</td>\n",
              "    </tr>\n",
              "    <tr>\n",
              "      <th>2</th>\n",
              "      <td>17168</td>\n",
              "      <td>0.0</td>\n",
              "      <td>2013-02-01</td>\n",
              "      <td>NaN</td>\n",
              "      <td>1567</td>\n",
              "      <td>NaN</td>\n",
              "      <td>34.767863</td>\n",
              "      <td>-5.004344</td>\n",
              "      <td>Puma Secondary</td>\n",
              "      <td>0</td>\n",
              "      <td>Internal</td>\n",
              "      <td>Msatu</td>\n",
              "      <td>Singida</td>\n",
              "      <td>13</td>\n",
              "      <td>2</td>\n",
              "      <td>Singida Rural</td>\n",
              "      <td>Puma</td>\n",
              "      <td>500</td>\n",
              "      <td>True</td>\n",
              "      <td>GeoData Consultants Ltd</td>\n",
              "      <td>VWC</td>\n",
              "      <td>P</td>\n",
              "      <td>NaN</td>\n",
              "      <td>2010</td>\n",
              "      <td>other</td>\n",
              "      <td>other</td>\n",
              "      <td>other</td>\n",
              "      <td>vwc</td>\n",
              "      <td>user-group</td>\n",
              "      <td>never pay</td>\n",
              "      <td>never pay</td>\n",
              "      <td>soft</td>\n",
              "      <td>good</td>\n",
              "      <td>insufficient</td>\n",
              "      <td>insufficient</td>\n",
              "      <td>rainwater harvesting</td>\n",
              "      <td>rainwater harvesting</td>\n",
              "      <td>surface</td>\n",
              "      <td>other</td>\n",
              "      <td>other</td>\n",
              "    </tr>\n",
              "    <tr>\n",
              "      <th>3</th>\n",
              "      <td>45559</td>\n",
              "      <td>0.0</td>\n",
              "      <td>2013-01-22</td>\n",
              "      <td>Finn Water</td>\n",
              "      <td>267</td>\n",
              "      <td>FINN WATER</td>\n",
              "      <td>38.058046</td>\n",
              "      <td>-9.418672</td>\n",
              "      <td>Kwa Mzee Pange</td>\n",
              "      <td>0</td>\n",
              "      <td>Ruvuma / Southern Coast</td>\n",
              "      <td>Kipindimbi</td>\n",
              "      <td>Lindi</td>\n",
              "      <td>80</td>\n",
              "      <td>43</td>\n",
              "      <td>Liwale</td>\n",
              "      <td>Mkutano</td>\n",
              "      <td>250</td>\n",
              "      <td>NaN</td>\n",
              "      <td>GeoData Consultants Ltd</td>\n",
              "      <td>VWC</td>\n",
              "      <td>NaN</td>\n",
              "      <td>True</td>\n",
              "      <td>1987</td>\n",
              "      <td>other</td>\n",
              "      <td>other</td>\n",
              "      <td>other</td>\n",
              "      <td>vwc</td>\n",
              "      <td>user-group</td>\n",
              "      <td>unknown</td>\n",
              "      <td>unknown</td>\n",
              "      <td>soft</td>\n",
              "      <td>good</td>\n",
              "      <td>dry</td>\n",
              "      <td>dry</td>\n",
              "      <td>shallow well</td>\n",
              "      <td>shallow well</td>\n",
              "      <td>groundwater</td>\n",
              "      <td>other</td>\n",
              "      <td>other</td>\n",
              "    </tr>\n",
              "    <tr>\n",
              "      <th>4</th>\n",
              "      <td>49871</td>\n",
              "      <td>500.0</td>\n",
              "      <td>2013-03-27</td>\n",
              "      <td>Bruder</td>\n",
              "      <td>1260</td>\n",
              "      <td>BRUDER</td>\n",
              "      <td>35.006123</td>\n",
              "      <td>-10.950412</td>\n",
              "      <td>Kwa Mzee Turuka</td>\n",
              "      <td>0</td>\n",
              "      <td>Ruvuma / Southern Coast</td>\n",
              "      <td>Losonga</td>\n",
              "      <td>Ruvuma</td>\n",
              "      <td>10</td>\n",
              "      <td>3</td>\n",
              "      <td>Mbinga</td>\n",
              "      <td>Mbinga Urban</td>\n",
              "      <td>60</td>\n",
              "      <td>NaN</td>\n",
              "      <td>GeoData Consultants Ltd</td>\n",
              "      <td>Water Board</td>\n",
              "      <td>BRUDER</td>\n",
              "      <td>True</td>\n",
              "      <td>2000</td>\n",
              "      <td>gravity</td>\n",
              "      <td>gravity</td>\n",
              "      <td>gravity</td>\n",
              "      <td>water board</td>\n",
              "      <td>user-group</td>\n",
              "      <td>pay monthly</td>\n",
              "      <td>monthly</td>\n",
              "      <td>soft</td>\n",
              "      <td>good</td>\n",
              "      <td>enough</td>\n",
              "      <td>enough</td>\n",
              "      <td>spring</td>\n",
              "      <td>spring</td>\n",
              "      <td>groundwater</td>\n",
              "      <td>communal standpipe</td>\n",
              "      <td>communal standpipe</td>\n",
              "    </tr>\n",
              "  </tbody>\n",
              "</table>\n",
              "</div>"
            ],
            "text/plain": [
              "      id  amount_tsh  ...     waterpoint_type waterpoint_type_group\n",
              "0  50785         0.0  ...               other                 other\n",
              "1  51630         0.0  ...  communal standpipe    communal standpipe\n",
              "2  17168         0.0  ...               other                 other\n",
              "3  45559         0.0  ...               other                 other\n",
              "4  49871       500.0  ...  communal standpipe    communal standpipe\n",
              "\n",
              "[5 rows x 40 columns]"
            ]
          },
          "metadata": {
            "tags": []
          },
          "execution_count": 123
        }
      ]
    },
    {
      "cell_type": "code",
      "metadata": {
        "id": "ThWPI-MMXXf9",
        "colab_type": "code",
        "colab": {
          "base_uri": "https://localhost:8080/",
          "height": 219
        },
        "outputId": "7f3fd42e-09eb-4e8a-970e-df70d85e6bba"
      },
      "source": [
        "# Checking the Training set column names\n",
        "TrainData.columns"
      ],
      "execution_count": 124,
      "outputs": [
        {
          "output_type": "execute_result",
          "data": {
            "text/plain": [
              "Index(['id', 'amount_tsh', 'date_recorded', 'funder', 'gps_height',\n",
              "       'installer', 'longitude', 'latitude', 'wpt_name', 'num_private',\n",
              "       'basin', 'subvillage', 'region', 'region_code', 'district_code', 'lga',\n",
              "       'ward', 'population', 'public_meeting', 'recorded_by',\n",
              "       'scheme_management', 'scheme_name', 'permit', 'construction_year',\n",
              "       'extraction_type', 'extraction_type_group', 'extraction_type_class',\n",
              "       'management', 'management_group', 'payment', 'payment_type',\n",
              "       'water_quality', 'quality_group', 'quantity', 'quantity_group',\n",
              "       'source', 'source_type', 'source_class', 'waterpoint_type',\n",
              "       'waterpoint_type_group'],\n",
              "      dtype='object')"
            ]
          },
          "metadata": {
            "tags": []
          },
          "execution_count": 124
        }
      ]
    },
    {
      "cell_type": "code",
      "metadata": {
        "id": "FfKlQivPX6vA",
        "colab_type": "code",
        "colab": {
          "base_uri": "https://localhost:8080/",
          "height": 237
        },
        "outputId": "e710c1a8-c2ce-4f22-c976-d1d6e26a3526"
      },
      "source": [
        "# Checking the Testing set column names\n",
        "print(TestData.columns)\n",
        "type(TestData.columns)"
      ],
      "execution_count": 125,
      "outputs": [
        {
          "output_type": "stream",
          "text": [
            "Index(['id', 'amount_tsh', 'date_recorded', 'funder', 'gps_height',\n",
            "       'installer', 'longitude', 'latitude', 'wpt_name', 'num_private',\n",
            "       'basin', 'subvillage', 'region', 'region_code', 'district_code', 'lga',\n",
            "       'ward', 'population', 'public_meeting', 'recorded_by',\n",
            "       'scheme_management', 'scheme_name', 'permit', 'construction_year',\n",
            "       'extraction_type', 'extraction_type_group', 'extraction_type_class',\n",
            "       'management', 'management_group', 'payment', 'payment_type',\n",
            "       'water_quality', 'quality_group', 'quantity', 'quantity_group',\n",
            "       'source', 'source_type', 'source_class', 'waterpoint_type',\n",
            "       'waterpoint_type_group'],\n",
            "      dtype='object')\n"
          ],
          "name": "stdout"
        },
        {
          "output_type": "execute_result",
          "data": {
            "text/plain": [
              "pandas.core.indexes.base.Index"
            ]
          },
          "metadata": {
            "tags": []
          },
          "execution_count": 125
        }
      ]
    },
    {
      "cell_type": "code",
      "metadata": {
        "id": "sK0Ww4HNWoFx",
        "colab_type": "code",
        "colab": {
          "base_uri": "https://localhost:8080/",
          "height": 135
        },
        "outputId": "d3c666a1-cef2-48ff-acdb-6179c956ab2a"
      },
      "source": [
        "# Merging the Labels and Training set into a single Dataframe as well renaming the Column names properly.\n",
        "TrainData = TrainData.merge(TrainLabels, on='id')\n",
        "TrainingRenamedColumns = ['ID', 'TSHAmount', 'DateRecorded', 'Funder', 'GPSHeight', 'Installer', 'Longitutde',\n",
        "              'Latitude', 'WaterPointName', 'PrivateNum', 'Basin', 'SubVillage', 'Region', 'RegionCode',\n",
        "              'DistrictCode', 'LocalGovernmentArea', 'Ward', 'Population', 'PublicMeeting', 'RecordedBy',\n",
        "              'SchemeManagement', 'SchemeName', 'Permit', 'ConstructionYear', 'ExtractionType', \n",
        "              'ExtractionTypeGroup', 'ExtractionTypeClass', 'Management', 'ManagementGroup', 'Payment', \n",
        "              'PaymentType', 'WaterQuality', 'QualityGroup', 'Quantity', 'QuantityGroup', 'Source', \n",
        "              'SourceType', 'SourceClass', 'WaterPointType', 'WaterPointTypeGroup', 'StatusGroup']\n",
        "TrainData.set_axis(TrainingRenamedColumns, axis='columns', inplace=True)\n",
        "TrainData.sample(1)"
      ],
      "execution_count": 126,
      "outputs": [
        {
          "output_type": "execute_result",
          "data": {
            "text/html": [
              "<div>\n",
              "<style scoped>\n",
              "    .dataframe tbody tr th:only-of-type {\n",
              "        vertical-align: middle;\n",
              "    }\n",
              "\n",
              "    .dataframe tbody tr th {\n",
              "        vertical-align: top;\n",
              "    }\n",
              "\n",
              "    .dataframe thead th {\n",
              "        text-align: right;\n",
              "    }\n",
              "</style>\n",
              "<table border=\"1\" class=\"dataframe\">\n",
              "  <thead>\n",
              "    <tr style=\"text-align: right;\">\n",
              "      <th></th>\n",
              "      <th>ID</th>\n",
              "      <th>TSHAmount</th>\n",
              "      <th>DateRecorded</th>\n",
              "      <th>Funder</th>\n",
              "      <th>GPSHeight</th>\n",
              "      <th>Installer</th>\n",
              "      <th>Longitutde</th>\n",
              "      <th>Latitude</th>\n",
              "      <th>WaterPointName</th>\n",
              "      <th>PrivateNum</th>\n",
              "      <th>Basin</th>\n",
              "      <th>SubVillage</th>\n",
              "      <th>Region</th>\n",
              "      <th>RegionCode</th>\n",
              "      <th>DistrictCode</th>\n",
              "      <th>LocalGovernmentArea</th>\n",
              "      <th>Ward</th>\n",
              "      <th>Population</th>\n",
              "      <th>PublicMeeting</th>\n",
              "      <th>RecordedBy</th>\n",
              "      <th>SchemeManagement</th>\n",
              "      <th>SchemeName</th>\n",
              "      <th>Permit</th>\n",
              "      <th>ConstructionYear</th>\n",
              "      <th>ExtractionType</th>\n",
              "      <th>ExtractionTypeGroup</th>\n",
              "      <th>ExtractionTypeClass</th>\n",
              "      <th>Management</th>\n",
              "      <th>ManagementGroup</th>\n",
              "      <th>Payment</th>\n",
              "      <th>PaymentType</th>\n",
              "      <th>WaterQuality</th>\n",
              "      <th>QualityGroup</th>\n",
              "      <th>Quantity</th>\n",
              "      <th>QuantityGroup</th>\n",
              "      <th>Source</th>\n",
              "      <th>SourceType</th>\n",
              "      <th>SourceClass</th>\n",
              "      <th>WaterPointType</th>\n",
              "      <th>WaterPointTypeGroup</th>\n",
              "      <th>StatusGroup</th>\n",
              "    </tr>\n",
              "  </thead>\n",
              "  <tbody>\n",
              "    <tr>\n",
              "      <th>295</th>\n",
              "      <td>68037</td>\n",
              "      <td>0.0</td>\n",
              "      <td>2011-04-12</td>\n",
              "      <td>Socie</td>\n",
              "      <td>0</td>\n",
              "      <td>Commu</td>\n",
              "      <td>35.865939</td>\n",
              "      <td>-5.973474</td>\n",
              "      <td>Zahanati</td>\n",
              "      <td>0</td>\n",
              "      <td>Wami / Ruvu</td>\n",
              "      <td>Makulu</td>\n",
              "      <td>Dodoma</td>\n",
              "      <td>1</td>\n",
              "      <td>5</td>\n",
              "      <td>Dodoma Urban</td>\n",
              "      <td>Chihanga</td>\n",
              "      <td>0</td>\n",
              "      <td>True</td>\n",
              "      <td>GeoData Consultants Ltd</td>\n",
              "      <td>VWC</td>\n",
              "      <td>Nzas</td>\n",
              "      <td>False</td>\n",
              "      <td>0</td>\n",
              "      <td>mono</td>\n",
              "      <td>mono</td>\n",
              "      <td>motorpump</td>\n",
              "      <td>vwc</td>\n",
              "      <td>user-group</td>\n",
              "      <td>pay per bucket</td>\n",
              "      <td>per bucket</td>\n",
              "      <td>soft</td>\n",
              "      <td>good</td>\n",
              "      <td>insufficient</td>\n",
              "      <td>insufficient</td>\n",
              "      <td>machine dbh</td>\n",
              "      <td>borehole</td>\n",
              "      <td>groundwater</td>\n",
              "      <td>communal standpipe</td>\n",
              "      <td>communal standpipe</td>\n",
              "      <td>functional</td>\n",
              "    </tr>\n",
              "  </tbody>\n",
              "</table>\n",
              "</div>"
            ],
            "text/plain": [
              "        ID  TSHAmount  ... WaterPointTypeGroup StatusGroup\n",
              "295  68037        0.0  ...  communal standpipe  functional\n",
              "\n",
              "[1 rows x 41 columns]"
            ]
          },
          "metadata": {
            "tags": []
          },
          "execution_count": 126
        }
      ]
    },
    {
      "cell_type": "code",
      "metadata": {
        "id": "AbEDu5bkYhgH",
        "colab_type": "code",
        "colab": {
          "base_uri": "https://localhost:8080/",
          "height": 153
        },
        "outputId": "4f547aae-3697-4ae0-f80b-056a4b8a6338"
      },
      "source": [
        "# Renaming the columns for the Test set\n",
        "TestRenamedColumns = ['ID', 'AmountTSH', 'DateRecorded', 'Funder', 'GPSHeight',\n",
        "       'Installer', 'Longitude', 'Latitude', 'WaterPointName', 'PrivateNum',\n",
        "       'Basin', 'SubVillage', 'Region', 'RegionCode', 'DistrictCode', 'LocalGovernmentArea', \n",
        "       'Ward', 'Population', 'PublicMeeting', 'RecordedBy', 'SchemeManagement', \n",
        "       'SchemeName', 'Permit', 'ConstructionYear', 'ExtractionType', 'ExtractionTypeGroup', \n",
        "       'ExtractionTypeClass', 'Management', 'ManagementGroup', 'Payment', 'PaymentType', \n",
        "       'WaterQuality', 'QualityGroup', 'Quantity', 'QuantityGroup', 'Source', \n",
        "       'SourceType', 'SourceClass', 'WaterPointType', 'WaterPointTypeGroup']\n",
        "TestData.set_axis(TestRenamedColumns, axis=1, inplace=True)\n",
        "TestData.sample(1)"
      ],
      "execution_count": 127,
      "outputs": [
        {
          "output_type": "execute_result",
          "data": {
            "text/html": [
              "<div>\n",
              "<style scoped>\n",
              "    .dataframe tbody tr th:only-of-type {\n",
              "        vertical-align: middle;\n",
              "    }\n",
              "\n",
              "    .dataframe tbody tr th {\n",
              "        vertical-align: top;\n",
              "    }\n",
              "\n",
              "    .dataframe thead th {\n",
              "        text-align: right;\n",
              "    }\n",
              "</style>\n",
              "<table border=\"1\" class=\"dataframe\">\n",
              "  <thead>\n",
              "    <tr style=\"text-align: right;\">\n",
              "      <th></th>\n",
              "      <th>ID</th>\n",
              "      <th>AmountTSH</th>\n",
              "      <th>DateRecorded</th>\n",
              "      <th>Funder</th>\n",
              "      <th>GPSHeight</th>\n",
              "      <th>Installer</th>\n",
              "      <th>Longitude</th>\n",
              "      <th>Latitude</th>\n",
              "      <th>WaterPointName</th>\n",
              "      <th>PrivateNum</th>\n",
              "      <th>Basin</th>\n",
              "      <th>SubVillage</th>\n",
              "      <th>Region</th>\n",
              "      <th>RegionCode</th>\n",
              "      <th>DistrictCode</th>\n",
              "      <th>LocalGovernmentArea</th>\n",
              "      <th>Ward</th>\n",
              "      <th>Population</th>\n",
              "      <th>PublicMeeting</th>\n",
              "      <th>RecordedBy</th>\n",
              "      <th>SchemeManagement</th>\n",
              "      <th>SchemeName</th>\n",
              "      <th>Permit</th>\n",
              "      <th>ConstructionYear</th>\n",
              "      <th>ExtractionType</th>\n",
              "      <th>ExtractionTypeGroup</th>\n",
              "      <th>ExtractionTypeClass</th>\n",
              "      <th>Management</th>\n",
              "      <th>ManagementGroup</th>\n",
              "      <th>Payment</th>\n",
              "      <th>PaymentType</th>\n",
              "      <th>WaterQuality</th>\n",
              "      <th>QualityGroup</th>\n",
              "      <th>Quantity</th>\n",
              "      <th>QuantityGroup</th>\n",
              "      <th>Source</th>\n",
              "      <th>SourceType</th>\n",
              "      <th>SourceClass</th>\n",
              "      <th>WaterpointType</th>\n",
              "      <th>WaterpointTypeGroup</th>\n",
              "    </tr>\n",
              "  </thead>\n",
              "  <tbody>\n",
              "    <tr>\n",
              "      <th>6922</th>\n",
              "      <td>26600</td>\n",
              "      <td>2000.0</td>\n",
              "      <td>2013-02-18</td>\n",
              "      <td>Mission</td>\n",
              "      <td>1003</td>\n",
              "      <td>DWE</td>\n",
              "      <td>35.453742</td>\n",
              "      <td>-10.599722</td>\n",
              "      <td>Kwa Samwel</td>\n",
              "      <td>0</td>\n",
              "      <td>Lake Nyasa</td>\n",
              "      <td>Dodoma</td>\n",
              "      <td>Ruvuma</td>\n",
              "      <td>10</td>\n",
              "      <td>2</td>\n",
              "      <td>Songea Rural</td>\n",
              "      <td>Maposeni</td>\n",
              "      <td>0</td>\n",
              "      <td>True</td>\n",
              "      <td>GeoData Consultants Ltd</td>\n",
              "      <td>VWC</td>\n",
              "      <td>Mradi wa maji wa peramiho</td>\n",
              "      <td>True</td>\n",
              "      <td>2005</td>\n",
              "      <td>gravity</td>\n",
              "      <td>gravity</td>\n",
              "      <td>gravity</td>\n",
              "      <td>vwc</td>\n",
              "      <td>user-group</td>\n",
              "      <td>pay when scheme fails</td>\n",
              "      <td>on failure</td>\n",
              "      <td>soft</td>\n",
              "      <td>good</td>\n",
              "      <td>enough</td>\n",
              "      <td>enough</td>\n",
              "      <td>river</td>\n",
              "      <td>river/lake</td>\n",
              "      <td>surface</td>\n",
              "      <td>communal standpipe</td>\n",
              "      <td>communal standpipe</td>\n",
              "    </tr>\n",
              "  </tbody>\n",
              "</table>\n",
              "</div>"
            ],
            "text/plain": [
              "         ID  AmountTSH  ...      WaterpointType WaterpointTypeGroup\n",
              "6922  26600     2000.0  ...  communal standpipe  communal standpipe\n",
              "\n",
              "[1 rows x 40 columns]"
            ]
          },
          "metadata": {
            "tags": []
          },
          "execution_count": 127
        }
      ]
    },
    {
      "cell_type": "code",
      "metadata": {
        "id": "8WyxCtsAZCih",
        "colab_type": "code",
        "colab": {
          "base_uri": "https://localhost:8080/",
          "height": 788
        },
        "outputId": "dbd9a182-0b6f-440e-b01b-a8b503b0dc2b"
      },
      "source": [
        "# Check Training set datatypes\n",
        "TrainData.dtypes"
      ],
      "execution_count": 128,
      "outputs": [
        {
          "output_type": "execute_result",
          "data": {
            "text/plain": [
              "ID                              int64\n",
              "TSHAmount                     float64\n",
              "DateRecorded           datetime64[ns]\n",
              "Funder                         object\n",
              "GPSHeight                       int64\n",
              "Installer                      object\n",
              "Longitutde                    float64\n",
              "Latitude                      float64\n",
              "WaterPointName                 object\n",
              "PrivateNum                      int64\n",
              "Basin                          object\n",
              "SubVillage                     object\n",
              "Region                         object\n",
              "RegionCode                      int64\n",
              "DistrictCode                    int64\n",
              "LocalGovernmentArea            object\n",
              "Ward                           object\n",
              "Population                      int64\n",
              "PublicMeeting                  object\n",
              "RecordedBy                     object\n",
              "SchemeManagement               object\n",
              "SchemeName                     object\n",
              "Permit                         object\n",
              "ConstructionYear                int64\n",
              "ExtractionType                 object\n",
              "ExtractionTypeGroup            object\n",
              "ExtractionTypeClass            object\n",
              "Management                     object\n",
              "ManagementGroup                object\n",
              "Payment                        object\n",
              "PaymentType                    object\n",
              "WaterQuality                   object\n",
              "QualityGroup                   object\n",
              "Quantity                       object\n",
              "QuantityGroup                  object\n",
              "Source                         object\n",
              "SourceType                     object\n",
              "SourceClass                    object\n",
              "WaterPointType                 object\n",
              "WaterPointTypeGroup            object\n",
              "StatusGroup                    object\n",
              "dtype: object"
            ]
          },
          "metadata": {
            "tags": []
          },
          "execution_count": 128
        }
      ]
    },
    {
      "cell_type": "code",
      "metadata": {
        "id": "I4x2Bkiid3-4",
        "colab_type": "code",
        "colab": {
          "base_uri": "https://localhost:8080/",
          "height": 770
        },
        "outputId": "15c3637b-f8ee-4f9f-e87c-e58385975c2e"
      },
      "source": [
        "# Checking Testing set datatype\n",
        "TestData.dtypes"
      ],
      "execution_count": 129,
      "outputs": [
        {
          "output_type": "execute_result",
          "data": {
            "text/plain": [
              "ID                              int64\n",
              "AmountTSH                     float64\n",
              "DateRecorded           datetime64[ns]\n",
              "Funder                         object\n",
              "GPSHeight                       int64\n",
              "Installer                      object\n",
              "Longitude                     float64\n",
              "Latitude                      float64\n",
              "WaterPointName                 object\n",
              "PrivateNum                      int64\n",
              "Basin                          object\n",
              "SubVillage                     object\n",
              "Region                         object\n",
              "RegionCode                      int64\n",
              "DistrictCode                    int64\n",
              "LocalGovernmentArea            object\n",
              "Ward                           object\n",
              "Population                      int64\n",
              "PublicMeeting                  object\n",
              "RecordedBy                     object\n",
              "SchemeManagement               object\n",
              "SchemeName                     object\n",
              "Permit                         object\n",
              "ConstructionYear                int64\n",
              "ExtractionType                 object\n",
              "ExtractionTypeGroup            object\n",
              "ExtractionTypeClass            object\n",
              "Management                     object\n",
              "ManagementGroup                object\n",
              "Payment                        object\n",
              "PaymentType                    object\n",
              "WaterQuality                   object\n",
              "QualityGroup                   object\n",
              "Quantity                       object\n",
              "QuantityGroup                  object\n",
              "Source                         object\n",
              "SourceType                     object\n",
              "SourceClass                    object\n",
              "WaterpointType                 object\n",
              "WaterpointTypeGroup            object\n",
              "dtype: object"
            ]
          },
          "metadata": {
            "tags": []
          },
          "execution_count": 129
        }
      ]
    },
    {
      "cell_type": "markdown",
      "metadata": {
        "id": "tjxqzJLeu1GD",
        "colab_type": "text"
      },
      "source": [
        "# Checking for Missing Values"
      ]
    },
    {
      "cell_type": "code",
      "metadata": {
        "id": "Z3v4aJHTf-Vy",
        "colab_type": "code",
        "colab": {}
      },
      "source": [
        "def checkNullValues(data):\n",
        "    \"\"\"\n",
        "    Function to check for missing values\n",
        "    \n",
        "    Arguments\n",
        "    --------\n",
        "    data: Accepts a dataset\n",
        "\n",
        "    Returns\n",
        "    -------\n",
        "    A list of dicts with variable names as index and the respective values as \n",
        "    the percentage of missing value in that column. Besides a Missingno Matrix\n",
        "    graph is also returned.\n",
        "    \"\"\"\n",
        "\n",
        "    print('Number of Missing Values are:')\n",
        "\n",
        "    nullValue = data.isnull().sum()     # Sum of all missing value in a column\n",
        "    nRows = data.shape[0]               # Total number of rows in the dataset\n",
        "    \n",
        "    for index, value in nullValue.items():\n",
        "        if value != 0:\n",
        "            print(f'{index}: {value}({round(value/nRows*100)})%')\n",
        "\n",
        "    print('\\nVisualization of the Number of Missing Values')\n",
        "    missingno.matrix(data, figsize=(18,5))"
      ],
      "execution_count": 0,
      "outputs": []
    },
    {
      "cell_type": "code",
      "metadata": {
        "id": "z_XcQc6KiXY1",
        "colab_type": "code",
        "colab": {
          "base_uri": "https://localhost:8080/",
          "height": 645
        },
        "outputId": "d570e323-6380-4fec-d208-ad96b1445a1a"
      },
      "source": [
        "# Missing values from the Training set\n",
        "checkNullValues(TrainData)"
      ],
      "execution_count": 131,
      "outputs": [
        {
          "output_type": "stream",
          "text": [
            "Number of Missing Values are:\n",
            "Funder: 3635(6)%\n",
            "Installer: 3655(6)%\n",
            "SubVillage: 371(1)%\n",
            "PublicMeeting: 3334(6)%\n",
            "SchemeManagement: 3877(7)%\n",
            "SchemeName: 28166(47)%\n",
            "Permit: 3056(5)%\n",
            "\n",
            "Visualization of the Number of Missing Values\n"
          ],
          "name": "stdout"
        },
        {
          "output_type": "display_data",
          "data": {
            "image/png": "[encoded data removed]",
            "text/plain": [
              "<Figure size 1296x360 with 2 Axes>"
            ]
          },
          "metadata": {
            "tags": []
          }
        }
      ]
    },
    {
      "cell_type": "code",
      "metadata": {
        "id": "Lrte-pywfrc2",
        "colab_type": "code",
        "colab": {
          "base_uri": "https://localhost:8080/",
          "height": 645
        },
        "outputId": "02b9a15b-1c21-4a12-800f-fe887bd3357a"
      },
      "source": [
        "# Missing Values from the Testing set\n",
        "checkNullValues(TestData)"
      ],
      "execution_count": 132,
      "outputs": [
        {
          "output_type": "stream",
          "text": [
            "Number of Missing Values are:\n",
            "Funder: 869(6)%\n",
            "Installer: 877(6)%\n",
            "SubVillage: 99(1)%\n",
            "PublicMeeting: 821(6)%\n",
            "SchemeManagement: 969(7)%\n",
            "SchemeName: 7092(48)%\n",
            "Permit: 737(5)%\n",
            "\n",
            "Visualization of the Number of Missing Values\n"
          ],
          "name": "stdout"
        },
        {
          "output_type": "display_data",
          "data": {
            "image/png": "[encoded data removed]",
            "text/plain": [
              "<Figure size 1296x360 with 2 Axes>"
            ]
          },
          "metadata": {
            "tags": []
          }
        }
      ]
    },
    {
      "cell_type": "markdown",
      "metadata": {
        "id": "wGFwiUUPulzo",
        "colab_type": "text"
      },
      "source": [
        "# Checking For Some Categorical Variables"
      ]
    },
    {
      "cell_type": "code",
      "metadata": {
        "id": "kKvA63FUi3m6",
        "colab_type": "code",
        "colab": {
          "base_uri": "https://localhost:8080/",
          "height": 182
        },
        "outputId": "98376299-dc96-4512-ed22-859758f02d73"
      },
      "source": [
        "list(TrainData['Basin'].unique())"
      ],
      "execution_count": 133,
      "outputs": [
        {
          "output_type": "execute_result",
          "data": {
            "text/plain": [
              "['Lake Nyasa',\n",
              " 'Lake Victoria',\n",
              " 'Pangani',\n",
              " 'Ruvuma / Southern Coast',\n",
              " 'Internal',\n",
              " 'Lake Tanganyika',\n",
              " 'Wami / Ruvu',\n",
              " 'Rufiji',\n",
              " 'Lake Rukwa']"
            ]
          },
          "metadata": {
            "tags": []
          },
          "execution_count": 133
        }
      ]
    },
    {
      "cell_type": "code",
      "metadata": {
        "id": "vtOYoZ8QqBQP",
        "colab_type": "code",
        "colab": {
          "base_uri": "https://localhost:8080/",
          "height": 403
        },
        "outputId": "01a350ee-b963-457a-f70f-e8e69741dcda"
      },
      "source": [
        "list(TrainData['Region'].unique())"
      ],
      "execution_count": 134,
      "outputs": [
        {
          "output_type": "execute_result",
          "data": {
            "text/plain": [
              "['Iringa',\n",
              " 'Mara',\n",
              " 'Manyara',\n",
              " 'Mtwara',\n",
              " 'Kagera',\n",
              " 'Tanga',\n",
              " 'Shinyanga',\n",
              " 'Tabora',\n",
              " 'Pwani',\n",
              " 'Ruvuma',\n",
              " 'Kilimanjaro',\n",
              " 'Rukwa',\n",
              " 'Mwanza',\n",
              " 'Kigoma',\n",
              " 'Lindi',\n",
              " 'Dodoma',\n",
              " 'Arusha',\n",
              " 'Mbeya',\n",
              " 'Singida',\n",
              " 'Morogoro',\n",
              " 'Dar es Salaam']"
            ]
          },
          "metadata": {
            "tags": []
          },
          "execution_count": 134
        }
      ]
    },
    {
      "cell_type": "code",
      "metadata": {
        "id": "CODH3mh1qKSh",
        "colab_type": "code",
        "colab": {
          "base_uri": "https://localhost:8080/",
          "height": 35
        },
        "outputId": "a7847085-b191-448e-dcb7-dfdebc0528e5"
      },
      "source": [
        "list(TrainData['RecordedBy'].unique())"
      ],
      "execution_count": 135,
      "outputs": [
        {
          "output_type": "execute_result",
          "data": {
            "text/plain": [
              "['GeoData Consultants Ltd']"
            ]
          },
          "metadata": {
            "tags": []
          },
          "execution_count": 135
        }
      ]
    },
    {
      "cell_type": "code",
      "metadata": {
        "id": "ZIVP56r2qgp8",
        "colab_type": "code",
        "colab": {
          "base_uri": "https://localhost:8080/",
          "height": 256
        },
        "outputId": "0b454db1-c01e-4d60-9ceb-a93a9f32a635"
      },
      "source": [
        "list(TrainData['SchemeManagement'].unique())"
      ],
      "execution_count": 136,
      "outputs": [
        {
          "output_type": "execute_result",
          "data": {
            "text/plain": [
              "['VWC',\n",
              " 'Other',\n",
              " nan,\n",
              " 'Private operator',\n",
              " 'WUG',\n",
              " 'Water Board',\n",
              " 'WUA',\n",
              " 'Water authority',\n",
              " 'Company',\n",
              " 'Parastatal',\n",
              " 'Trust',\n",
              " 'SWC',\n",
              " 'None']"
            ]
          },
          "metadata": {
            "tags": []
          },
          "execution_count": 136
        }
      ]
    },
    {
      "cell_type": "code",
      "metadata": {
        "id": "inrT3gftqnOA",
        "colab_type": "code",
        "colab": {
          "base_uri": "https://localhost:8080/",
          "height": 348
        },
        "outputId": "4a405c8a-c3f3-4ea7-bfb7-8275e06e9a6e"
      },
      "source": [
        "list(TrainData['ExtractionType'].unique())"
      ],
      "execution_count": 137,
      "outputs": [
        {
          "output_type": "execute_result",
          "data": {
            "text/plain": [
              "['gravity',\n",
              " 'submersible',\n",
              " 'swn 80',\n",
              " 'nira/tanira',\n",
              " 'india mark ii',\n",
              " 'other',\n",
              " 'ksb',\n",
              " 'mono',\n",
              " 'windmill',\n",
              " 'afridev',\n",
              " 'other - rope pump',\n",
              " 'india mark iii',\n",
              " 'other - swn 81',\n",
              " 'other - play pump',\n",
              " 'cemo',\n",
              " 'climax',\n",
              " 'walimi',\n",
              " 'other - mkulima/shinyanga']"
            ]
          },
          "metadata": {
            "tags": []
          },
          "execution_count": 137
        }
      ]
    },
    {
      "cell_type": "code",
      "metadata": {
        "id": "otxUnEx0q1BP",
        "colab_type": "code",
        "colab": {
          "base_uri": "https://localhost:8080/",
          "height": 256
        },
        "outputId": "6609a931-c042-40fb-e1f2-78ce6e32fc8e"
      },
      "source": [
        "list(TrainData['ExtractionTypeGroup'].unique())"
      ],
      "execution_count": 138,
      "outputs": [
        {
          "output_type": "execute_result",
          "data": {
            "text/plain": [
              "['gravity',\n",
              " 'submersible',\n",
              " 'swn 80',\n",
              " 'nira/tanira',\n",
              " 'india mark ii',\n",
              " 'other',\n",
              " 'mono',\n",
              " 'wind-powered',\n",
              " 'afridev',\n",
              " 'rope pump',\n",
              " 'india mark iii',\n",
              " 'other handpump',\n",
              " 'other motorpump']"
            ]
          },
          "metadata": {
            "tags": []
          },
          "execution_count": 138
        }
      ]
    },
    {
      "cell_type": "code",
      "metadata": {
        "id": "e4OSjP0-q-gp",
        "colab_type": "code",
        "colab": {
          "base_uri": "https://localhost:8080/",
          "height": 146
        },
        "outputId": "e0303f30-6a25-4229-bfeb-d43ca26a6e3f"
      },
      "source": [
        "list(TrainData['ExtractionTypeClass'].unique())"
      ],
      "execution_count": 139,
      "outputs": [
        {
          "output_type": "execute_result",
          "data": {
            "text/plain": [
              "['gravity',\n",
              " 'submersible',\n",
              " 'handpump',\n",
              " 'other',\n",
              " 'motorpump',\n",
              " 'wind-powered',\n",
              " 'rope pump']"
            ]
          },
          "metadata": {
            "tags": []
          },
          "execution_count": 139
        }
      ]
    },
    {
      "cell_type": "code",
      "metadata": {
        "id": "hULd89uerFz_",
        "colab_type": "code",
        "colab": {
          "base_uri": "https://localhost:8080/",
          "height": 237
        },
        "outputId": "58817fa2-6de6-4fda-ba37-796c7f793268"
      },
      "source": [
        "list(TrainData['Management'].unique())"
      ],
      "execution_count": 140,
      "outputs": [
        {
          "output_type": "execute_result",
          "data": {
            "text/plain": [
              "['vwc',\n",
              " 'wug',\n",
              " 'other',\n",
              " 'private operator',\n",
              " 'water board',\n",
              " 'wua',\n",
              " 'company',\n",
              " 'water authority',\n",
              " 'parastatal',\n",
              " 'unknown',\n",
              " 'other - school',\n",
              " 'trust']"
            ]
          },
          "metadata": {
            "tags": []
          },
          "execution_count": 140
        }
      ]
    },
    {
      "cell_type": "code",
      "metadata": {
        "id": "b5a9IpvlrPTj",
        "colab_type": "code",
        "colab": {
          "base_uri": "https://localhost:8080/",
          "height": 35
        },
        "outputId": "aafa9e78-a7f3-4296-92f6-75c94c0775d1"
      },
      "source": [
        "list(TrainData['ManagementGroup'].unique())"
      ],
      "execution_count": 141,
      "outputs": [
        {
          "output_type": "execute_result",
          "data": {
            "text/plain": [
              "['user-group', 'other', 'commercial', 'parastatal', 'unknown']"
            ]
          },
          "metadata": {
            "tags": []
          },
          "execution_count": 141
        }
      ]
    },
    {
      "cell_type": "code",
      "metadata": {
        "id": "42wgc_5qrXWi",
        "colab_type": "code",
        "colab": {
          "base_uri": "https://localhost:8080/",
          "height": 146
        },
        "outputId": "6cb04e1c-37ed-4e64-d106-6548f9639320"
      },
      "source": [
        "list(TrainData['Payment'].unique())"
      ],
      "execution_count": 142,
      "outputs": [
        {
          "output_type": "execute_result",
          "data": {
            "text/plain": [
              "['pay annually',\n",
              " 'never pay',\n",
              " 'pay per bucket',\n",
              " 'unknown',\n",
              " 'pay when scheme fails',\n",
              " 'other',\n",
              " 'pay monthly']"
            ]
          },
          "metadata": {
            "tags": []
          },
          "execution_count": 142
        }
      ]
    },
    {
      "cell_type": "code",
      "metadata": {
        "id": "HejjhvzkraKF",
        "colab_type": "code",
        "colab": {
          "base_uri": "https://localhost:8080/",
          "height": 146
        },
        "outputId": "44950c66-b8cd-403a-ac89-7930968319d7"
      },
      "source": [
        "list(TrainData['PaymentType'].unique())"
      ],
      "execution_count": 143,
      "outputs": [
        {
          "output_type": "execute_result",
          "data": {
            "text/plain": [
              "['annually',\n",
              " 'never pay',\n",
              " 'per bucket',\n",
              " 'unknown',\n",
              " 'on failure',\n",
              " 'other',\n",
              " 'monthly']"
            ]
          },
          "metadata": {
            "tags": []
          },
          "execution_count": 143
        }
      ]
    },
    {
      "cell_type": "code",
      "metadata": {
        "id": "qy1TRoD_rkyY",
        "colab_type": "code",
        "colab": {
          "base_uri": "https://localhost:8080/",
          "height": 164
        },
        "outputId": "af1fdd81-8079-4c73-b529-a0492086ef57"
      },
      "source": [
        "list(TrainData['WaterQuality'].unique())"
      ],
      "execution_count": 144,
      "outputs": [
        {
          "output_type": "execute_result",
          "data": {
            "text/plain": [
              "['soft',\n",
              " 'salty',\n",
              " 'milky',\n",
              " 'unknown',\n",
              " 'fluoride',\n",
              " 'coloured',\n",
              " 'salty abandoned',\n",
              " 'fluoride abandoned']"
            ]
          },
          "metadata": {
            "tags": []
          },
          "execution_count": 144
        }
      ]
    },
    {
      "cell_type": "code",
      "metadata": {
        "id": "4X1k-Zn-rqTc",
        "colab_type": "code",
        "colab": {
          "base_uri": "https://localhost:8080/",
          "height": 35
        },
        "outputId": "51796bb9-56f2-41bb-ec9e-3fd3f1f96112"
      },
      "source": [
        "list(TrainData['QualityGroup'].unique())"
      ],
      "execution_count": 145,
      "outputs": [
        {
          "output_type": "execute_result",
          "data": {
            "text/plain": [
              "['good', 'salty', 'milky', 'unknown', 'fluoride', 'colored']"
            ]
          },
          "metadata": {
            "tags": []
          },
          "execution_count": 145
        }
      ]
    },
    {
      "cell_type": "code",
      "metadata": {
        "id": "b33QnwszsaWs",
        "colab_type": "code",
        "colab": {
          "base_uri": "https://localhost:8080/",
          "height": 35
        },
        "outputId": "3e5580d8-7f69-41cd-a6d5-1958d098f9d2"
      },
      "source": [
        "list(TrainData['Quantity'].unique())"
      ],
      "execution_count": 146,
      "outputs": [
        {
          "output_type": "execute_result",
          "data": {
            "text/plain": [
              "['enough', 'insufficient', 'dry', 'seasonal', 'unknown']"
            ]
          },
          "metadata": {
            "tags": []
          },
          "execution_count": 146
        }
      ]
    },
    {
      "cell_type": "code",
      "metadata": {
        "id": "e-MeMHJysfU0",
        "colab_type": "code",
        "colab": {
          "base_uri": "https://localhost:8080/",
          "height": 35
        },
        "outputId": "66f60a51-772a-4e24-d220-914dc0f8d66d"
      },
      "source": [
        "list(TrainData['QuantityGroup'].unique())"
      ],
      "execution_count": 147,
      "outputs": [
        {
          "output_type": "execute_result",
          "data": {
            "text/plain": [
              "['enough', 'insufficient', 'dry', 'seasonal', 'unknown']"
            ]
          },
          "metadata": {
            "tags": []
          },
          "execution_count": 147
        }
      ]
    },
    {
      "cell_type": "code",
      "metadata": {
        "id": "rWnPlAm1slGj",
        "colab_type": "code",
        "colab": {
          "base_uri": "https://localhost:8080/",
          "height": 201
        },
        "outputId": "8fa2a3a3-65bc-40ec-d16d-5ccedfe74272"
      },
      "source": [
        "list(TrainData['Source'].unique())"
      ],
      "execution_count": 148,
      "outputs": [
        {
          "output_type": "execute_result",
          "data": {
            "text/plain": [
              "['spring',\n",
              " 'rainwater harvesting',\n",
              " 'dam',\n",
              " 'machine dbh',\n",
              " 'other',\n",
              " 'shallow well',\n",
              " 'river',\n",
              " 'hand dtw',\n",
              " 'lake',\n",
              " 'unknown']"
            ]
          },
          "metadata": {
            "tags": []
          },
          "execution_count": 148
        }
      ]
    },
    {
      "cell_type": "code",
      "metadata": {
        "id": "6TrkRagIsqyp",
        "colab_type": "code",
        "colab": {
          "base_uri": "https://localhost:8080/",
          "height": 146
        },
        "outputId": "b3890ef1-bef4-4899-8806-deb032cdf278"
      },
      "source": [
        "list(TrainData['SourceType'].unique())"
      ],
      "execution_count": 149,
      "outputs": [
        {
          "output_type": "execute_result",
          "data": {
            "text/plain": [
              "['spring',\n",
              " 'rainwater harvesting',\n",
              " 'dam',\n",
              " 'borehole',\n",
              " 'other',\n",
              " 'shallow well',\n",
              " 'river/lake']"
            ]
          },
          "metadata": {
            "tags": []
          },
          "execution_count": 149
        }
      ]
    },
    {
      "cell_type": "code",
      "metadata": {
        "id": "cfktV6xksxUz",
        "colab_type": "code",
        "colab": {
          "base_uri": "https://localhost:8080/",
          "height": 35
        },
        "outputId": "e4590dbe-331d-4b83-da05-4ea07665f476"
      },
      "source": [
        "list(TrainData['SourceClass'].unique())"
      ],
      "execution_count": 150,
      "outputs": [
        {
          "output_type": "execute_result",
          "data": {
            "text/plain": [
              "['groundwater', 'surface', 'unknown']"
            ]
          },
          "metadata": {
            "tags": []
          },
          "execution_count": 150
        }
      ]
    },
    {
      "cell_type": "code",
      "metadata": {
        "id": "8771R7qXs0CH",
        "colab_type": "code",
        "colab": {
          "base_uri": "https://localhost:8080/",
          "height": 146
        },
        "outputId": "db8dc002-87d2-4ca5-b0bb-07e7c70956c5"
      },
      "source": [
        "list(TrainData['WaterPointType'].unique())"
      ],
      "execution_count": 151,
      "outputs": [
        {
          "output_type": "execute_result",
          "data": {
            "text/plain": [
              "['communal standpipe',\n",
              " 'communal standpipe multiple',\n",
              " 'hand pump',\n",
              " 'other',\n",
              " 'improved spring',\n",
              " 'cattle trough',\n",
              " 'dam']"
            ]
          },
          "metadata": {
            "tags": []
          },
          "execution_count": 151
        }
      ]
    },
    {
      "cell_type": "code",
      "metadata": {
        "id": "KKQ-8OyStClg",
        "colab_type": "code",
        "colab": {
          "base_uri": "https://localhost:8080/",
          "height": 127
        },
        "outputId": "fc263978-6847-4715-923a-2847ec03cf4c"
      },
      "source": [
        "list(TrainData['WaterPointTypeGroup'].unique())"
      ],
      "execution_count": 153,
      "outputs": [
        {
          "output_type": "execute_result",
          "data": {
            "text/plain": [
              "['communal standpipe',\n",
              " 'hand pump',\n",
              " 'other',\n",
              " 'improved spring',\n",
              " 'cattle trough',\n",
              " 'dam']"
            ]
          },
          "metadata": {
            "tags": []
          },
          "execution_count": 153
        }
      ]
    },
    {
      "cell_type": "markdown",
      "metadata": {
        "id": "ihkBwGaHv2Rf",
        "colab_type": "text"
      },
      "source": [
        "# Some Observations About the Data Set\n",
        "\n",
        "- `SchemeName` has the highest number of missing values with ~47%, from both the Training as well as the Test set.\n",
        "- The `DateRecorded` is a `datetime` object so it should be possible to do some Time-Series analysis on it but not sure of the information gain from it, since its safe to assume that the column is a record of the date when the information from a particular was collected.\n",
        "- A lot of the columns has string-type objects, not sure if there're any algorithms that would accept those objects for predictions.\n",
        "- Some of those columns has possible categorical variables. One Examples is the `WaterPointType` which has 7 unique values.\n",
        "- Some of the columns are possible duplicates to each other with some trivial difference in the values which could be informative at some point of time.\n"
      ]
    }
  ]
}